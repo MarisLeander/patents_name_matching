{
 "cells": [
  {
   "cell_type": "code",
   "execution_count": 1,
   "metadata": {
    "ExecuteTime": {
     "end_time": "2025-03-10T13:07:16.175648Z",
     "start_time": "2025-03-10T13:07:15.728481Z"
    }
   },
   "outputs": [],
   "source": [
    "import pandas as pd\n",
    "import duckdb as db\n",
    "from duckdb import ConstraintException\n",
    "from datetime import datetime\n",
    "import os\n",
    "from tqdm import tqdm\n",
    "from duckdb import CatalogException\n",
    "\n",
    "# We're using the google style guide for python (https://google.github.io/styleguide/pyguide.html)"
   ]
  },
  {
   "cell_type": "code",
   "execution_count": 2,
   "metadata": {
    "ExecuteTime": {
     "end_time": "2025-03-10T13:07:21.085918Z",
     "start_time": "2025-03-10T13:07:17.608715Z"
    }
   },
   "outputs": [],
   "source": [
    "# establish a connection to the database\n",
    "db_path = '../data/database/patent_database'\n",
    "con = db.connect(database=db_path, read_only=False)"
   ]
  },
  {
   "cell_type": "code",
   "execution_count": null,
   "metadata": {
    "ExecuteTime": {
     "end_time": "2025-03-10T13:07:21.301927Z",
     "start_time": "2025-03-10T13:07:21.085918Z"
    }
   },
   "outputs": [],
   "source": [
    "# Read the data from the CSV file\n",
    "firm_names_data = pd.read_stata('../../files_maris/katharina_patents_name_matching/all_names_incl_isin.dta').reset_index()"
   ]
  },
  {
   "cell_type": "code",
   "execution_count": 4,
   "metadata": {
    "ExecuteTime": {
     "end_time": "2025-03-10T13:07:21.401794Z",
     "start_time": "2025-03-10T13:07:21.354920Z"
    }
   },
   "outputs": [
    {
     "data": {
      "text/plain": [
       "┌────────────────────┐\n",
       "│        name        │\n",
       "│      varchar       │\n",
       "├────────────────────┤\n",
       "│ firm_data_complete │\n",
       "│ firm_isin          │\n",
       "│ firm_names         │\n",
       "│ patstat_data       │\n",
       "│ patstat_firm_match │\n",
       "└────────────────────┘"
      ]
     },
     "execution_count": 4,
     "metadata": {},
     "output_type": "execute_result"
    }
   ],
   "source": [
    "con.sql(\"show tables\")"
   ]
  },
  {
   "cell_type": "code",
   "execution_count": 4,
   "metadata": {
    "ExecuteTime": {
     "end_time": "2025-03-10T13:07:23.406838Z",
     "start_time": "2025-03-10T13:07:23.391218Z"
    }
   },
   "outputs": [],
   "source": [
    "def write_log(msg: str, logfile: str):\n",
    "    \"\"\"Writes a message to the log file.\n",
    "\n",
    "    Args:\n",
    "        msg: The message to write to the log file\n",
    "        logfile: The name of the log file\n",
    "\n",
    "    Returns:\n",
    "        None\n",
    "    \"\"\"\n",
    "    file_path = f\"../logs/{logfile}\"\n",
    "    with open(file_path, \"a\") as log_file:\n",
    "        timestamp = datetime.now().strftime(\"%Y-%m-%d %H:%M:%S\")\n",
    "        log_file.write(f\"{timestamp}\\n{msg}\\n\\n\")\n",
    "\n",
    "def wipe_database():\n",
    "    \"\"\"Deletes all tables in the database.\n",
    "\n",
    "    Args:\n",
    "        None\n",
    "\n",
    "    Returns:\n",
    "        None\n",
    "    \"\"\"\n",
    "    # Get names of all tables\n",
    "    tables = con.sql(\"SHOW TABLES\").fetchdf().name.to_list()\n",
    "    while len(tables) > 0:\n",
    "        for table in tables:\n",
    "            try:\n",
    "                con.sql(f\"DROP TABLE {table}\")\n",
    "                tables.remove(table)\n",
    "            except CatalogException as e:\n",
    "                # Since we have foreign keys, we might get exceptions,\n",
    "                # when deleting in wrong order.\n",
    "                print(repr(e))\n",
    "                continue"
   ]
  },
  {
   "cell_type": "code",
   "execution_count": 5,
   "metadata": {
    "ExecuteTime": {
     "end_time": "2025-03-10T13:07:24.081417Z",
     "start_time": "2025-03-10T13:07:24.065646Z"
    }
   },
   "outputs": [],
   "source": [
    "def clean_firm_isin_table():\n",
    "    \"\"\"Gets rid of some duplicate entries in the firm_isin table. This is necessary since some firms have multiple ISINs. We only keep one ISIN per firm.\n",
    "\n",
    "    Args:\n",
    "        None\n",
    "\n",
    "    Returns:\n",
    "        None\n",
    "    \"\"\"\n",
    "    sql = \"\"\"\n",
    "    DELETE FROM firm_isin\n",
    "    WHERE ISIN = ?;\n",
    "    \"\"\"\n",
    "    con.execute(sql, ('US1746132083',)) # CITIZEN FINANCIAL CORP\n",
    "    con.execute(sql, ('JP3360850006',)) # SHOEI CO LTD\n",
    "    con.execute(sql, ('JP3386660009',)) # JTECH CORP\n",
    "    con.execute(sql, ('US70978T1079',)) # PEOPLES BANCORP INC\n",
    "    con.execute(sql, ('JP3384710004',)) # SHINWA CO LTD\n",
    "\n",
    "\n",
    "def create_base_tables(firm_names_data: pd.DataFrame, reset: bool = False):\n",
    "    \"\"\"Creates the base tables for the name matching process. This includes the firm_names_data table and the patstat_data table. Also create firm_data_complete table.\n",
    "\n",
    "    Args:\n",
    "        reset: If True, the tables will be dropped if they already exist.\n",
    "        firm_names_data: The data containing the names and ISINs of the firms.\n",
    "\n",
    "    Returns:\n",
    "        None\n",
    "    \"\"\"\n",
    "    if reset:\n",
    "        # -- 1. Drop old tables if they exist\n",
    "        con.sql(\"DROP TABLE IF EXISTS firm_isin;\")\n",
    "        con.sql(\"DROP TABLE IF EXISTS firm_names;\")\n",
    "        con.sql(\"DROP TABLE IF EXISTS firm_data_complete;\")\n",
    "\n",
    "    # -- 2. Create firm_names table with a generated surrogate key for each distinct name\n",
    "    # We do this to get rid of duplicates for name matching\n",
    "    sql = \"\"\"\n",
    "        CREATE TABLE IF NOT EXISTS firm_names (\n",
    "            firm_id INTEGER PRIMARY KEY,\n",
    "            name VARCHAR(255) NOT NULL\n",
    "        );\n",
    "    \"\"\"\n",
    "    con.sql(sql)\n",
    "\n",
    "    sql = \"\"\"\n",
    "        INSERT INTO firm_names (firm_id, name)\n",
    "        SELECT ROW_NUMBER() OVER (ORDER BY name) AS firm_id,\n",
    "               name\n",
    "        FROM (\n",
    "            SELECT DISTINCT UPPER(name) AS name\n",
    "            FROM firm_names_data\n",
    "        ) AS sub;\n",
    "    \"\"\"\n",
    "    con.sql(sql)\n",
    "\n",
    "    # -- 3. Create firm_isin table, referencing the firm_id via a JOIN on the name\n",
    "    # We do this, since some firms have multiple ISINs (e.g. SHINWA CO LTD). This could be due to different classes of shares / or subsidiaries?\n",
    "    sql = \"\"\"\n",
    "        CREATE TABLE IF NOT EXISTS firm_isin (\n",
    "           ISIN VARCHAR(255) PRIMARY KEY NOT NULL,\n",
    "           firm_id INTEGER REFERENCES firm_names(firm_id)\n",
    "        );\n",
    "    \"\"\"\n",
    "    con.sql(sql)\n",
    "\n",
    "    sql = \"\"\"\n",
    "        INSERT INTO firm_isin (ISIN, firm_id)\n",
    "        SELECT i.ISIN, f.firm_id\n",
    "        FROM (\n",
    "           SELECT DISTINCT ISIN, UPPER(name) AS name\n",
    "           FROM firm_names_data\n",
    "        ) AS i\n",
    "        JOIN firm_names AS f\n",
    "        ON i.name = f.name;\n",
    "    \"\"\"\n",
    "    con.sql(sql)\n",
    "    clean_firm_isin_table();\n",
    "\n",
    "    # -- 4. This table can be used to extract the bdvids of the subsidiaries via ISIN or name\n",
    "    con.sql(\"CREATE TABLE IF NOT EXISTS firm_data_complete AS SELECT ISIN, subsidiarybvdid, UPPER(name) AS name FROM firm_names_data\")\n",
    "\n",
    "def create_match_table(reset: bool = False):\n",
    "    \"\"\"Creates the patstat_firm_match table in the database. This table is used to store the matches between the patstat data and the firm (id) data.\n",
    "\n",
    "    Args:\n",
    "        reset: If True, the table will be dropped if it already exists.\n",
    "\n",
    "    Returns:\n",
    "        None\n",
    "    \"\"\"\n",
    "    if reset:\n",
    "        con.sql(\"DROP TABLE IF EXISTS patstat_firm_match;\")\n",
    "\n",
    "    sql = \"\"\"\n",
    "    CREATE TABLE IF NOT EXISTS patstat_firm_match (\n",
    "        han_id INTEGER PRIMARY KEY, -- han_id from patstat_data tables\n",
    "        firm_id INTEGER REFERENCES firm_names(firm_id), -- firm_id from firm_names table\n",
    "        similarity FLOAT, -- similarity between the patstat name and the firm name\n",
    "    );\n",
    "    \"\"\"\n",
    "    con.sql(sql)\n",
    "\n",
    "def create_patstat_database(reset: bool = True):\n",
    "    \"\"\"Creates a table in the database with the patstat data.\n",
    "\n",
    "    Args:\n",
    "        reset: If True, the table will be dropped if it already exists.\n",
    "\n",
    "    Returns:\n",
    "        None\n",
    "    \"\"\"\n",
    "    if reset:\n",
    "        con.sql(f\"DROP TABLE IF EXISTS patstat_data\")\n",
    "\n",
    "    sql = f\"\"\"\n",
    "        CREATE TABLE IF NOT EXISTS patstat_data (\n",
    "            pat_publn_id INTEGER,\n",
    "            publn_date DATE,\n",
    "            han_id INTEGER,\n",
    "            han_name VARCHAR(255),\n",
    "            person_name VARCHAR(255),\n",
    "            psn_name VARCHAR(255),\n",
    "        );\n",
    "    \"\"\"\n",
    "    con.execute(sql)\n",
    "\n",
    "def insert_patstat_data(patstat_data: pd.DataFrame):\n",
    "    \"\"\"Inserts the patstat data into the database.\n",
    "\n",
    "    Args:\n",
    "        patstat_data: The data containing the patstat data.\n",
    "\n",
    "    Returns:\n",
    "        None\n",
    "    \"\"\"\n",
    "    con.register('patstat_data_tmp', patstat_data)\n",
    "    sql = \"\"\"\n",
    "        INSERT INTO patstat_data\n",
    "        SELECT DISTINCT pat_publn_id, publn_date, han_id, \n",
    "                        UPPER(han_name) AS han_name, \n",
    "                        UPPER(person_name) AS person_name, \n",
    "                        UPPER(psn_name) AS psn_name\n",
    "        FROM patstat_data_tmp;\n",
    "    \"\"\"\n",
    "    con.execute(sql)\n",
    "    con.execute(\"DROP VIEW IF EXISTS patstat_data_tmp\")\n",
    "\n",
    "\n"
   ]
  },
  {
   "cell_type": "code",
   "execution_count": 6,
   "metadata": {
    "ExecuteTime": {
     "end_time": "2025-03-10T13:07:24.731578Z",
     "start_time": "2025-03-10T13:07:24.719245Z"
    }
   },
   "outputs": [],
   "source": [
    "def insert_match(han_id: int, firm_id: int, similarity: float):\n",
    "    \"\"\"Inserts a match between a patstat publication id and a firm id into the patstat_firm_match table.\n",
    "\n",
    "    Args:\n",
    "        han_id: The patstat firm / patent applicant id.\n",
    "        firm_id: The firm id.\n",
    "        similarity: The similarity between the patstat name and the firm name.\n",
    "\n",
    "    Returns:\n",
    "        None\n",
    "    \"\"\"\n",
    "    # Get current matching firm / score\n",
    "    match = con.execute(f\"SELECT * FROM patstat_firm_match WHERE han_id = {han_id}\").fetchdf()\n",
    "    # If we already have a match with a higher similarity, we don't insert the new match\n",
    "    if len(match) > 0:\n",
    "        current_similarity = match['similarity'].iloc[0]\n",
    "        if current_similarity is None or similarity is None:\n",
    "            pass\n",
    "        elif current_similarity > similarity:\n",
    "            return\n",
    "    # Convert values to Python types that DuckDB supports natively\n",
    "    han_id = int(han_id) if han_id is not None else None\n",
    "    firm_id = int(firm_id) if firm_id is not None else None\n",
    "    similarity = float(similarity) if similarity is not None else None\n",
    "    # print(f\"Inserting match for pat_publn_id {pat_publn_id}, firm_id {firm_id}, similarity {similarity}, pat_table {pat_table}\")\n",
    "    try:\n",
    "        sql = f\"\"\"\n",
    "            INSERT INTO patstat_firm_match (han_id, firm_id, similarity)\n",
    "            VALUES (?, ?, ?);\n",
    "        \"\"\"\n",
    "        con.execute(sql, (han_id, firm_id, similarity))\n",
    "    except ConstraintException as e:\n",
    "        error = f\"{repr(e)}\\nError inserting match for pat_publn_id firm_id {firm_id}, similarity {similarity}\"\n",
    "        write_log(error, \"insert_match_error.log\")\n",
    "\n",
    "\n",
    "def get_matching_firm(patstat_name: str) -> pd.DataFrame:\n",
    "    \"\"\"Gets the best matching firm for a given patstat name. Jayo-Winkler similarity is used to calculate the similarity between the patstat name and the firm name.\n",
    "\n",
    "    \"\"\"\n",
    "    patstat_name = patstat_name.replace(\"'\", \"\")\n",
    "    # We use the Jaro-Winkler similarity since it is a good metric for string similarity. It\n",
    "    sql = f\"\"\"\n",
    "        SELECT\n",
    "            firm_id,\n",
    "            name,\n",
    "            jaro_winkler_similarity(name, '{patstat_name}') AS similarity\n",
    "        FROM firm_names\n",
    "        WHERE similarity > 0.8\n",
    "        ORDER BY similarity DESC\n",
    "        LIMIT 1;\n",
    "    \"\"\"\n",
    "    df = con.sql(sql).fetchdf()\n",
    "    return df\n"
   ]
  },
  {
   "cell_type": "code",
   "execution_count": 7,
   "metadata": {
    "ExecuteTime": {
     "end_time": "2025-03-10T13:07:25.351469Z",
     "start_time": "2025-03-10T13:07:25.333242Z"
    }
   },
   "outputs": [],
   "source": [
    "def extract_before_first_comma(s: str) -> str:\n",
    "    \"\"\"Extracts the substring before the first comma in a string.\n",
    "\n",
    "    Args:\n",
    "        s: The input string.\n",
    "\n",
    "    Returns:\n",
    "        The substring before the first comma.\n",
    "    \"\"\"\n",
    "    # @todo check if this results in errors\n",
    "    if s is None:\n",
    "        return \"\"\n",
    "    # Split on the first comma only (maxsplit=1)\n",
    "    parts = s.split(',', 1)\n",
    "    return parts[0]  # If there's no comma, split() returns [s]\n",
    "\n",
    "def get_best_match(patstat_entry: pd.Series) -> pd.DataFrame:\n",
    "    \"\"\"Calculates the best name match for a patstat entry against our firm_names table.\n",
    "\n",
    "    Args:\n",
    "        patstat_entry: A single entry from the patstat data.\n",
    "\n",
    "    Returns:\n",
    "        The best match for the patstat entry.\n",
    "    \"\"\"\n",
    "\n",
    "    df = None\n",
    "    max_similarity = -1\n",
    "\n",
    "    # We have to use the extract_before_first_comma function to get rid of the location information in the name\n",
    "    df_han = get_matching_firm(extract_before_first_comma(patstat_entry['han_name']))\n",
    "    df_psn = get_matching_firm(extract_before_first_comma(patstat_entry['psn_name']))\n",
    "    df_person = get_matching_firm(extract_before_first_comma(patstat_entry['person_name']))\n",
    "    # We check if we have a match with a similarity > 0.9 in any of the dataframes. They are sorted by the subjective importance (han_name > psn_name > person_name)\n",
    "    # If we have a match with a similarity > 0.9, we instantly return it\n",
    "    if len(df_han) > 0:\n",
    "        similarity = df_han['similarity'].iloc[0]\n",
    "        if similarity > 0.9:\n",
    "            return df_han\n",
    "        elif similarity > max_similarity:\n",
    "            max_similarity = similarity\n",
    "            df = df_han\n",
    "    if len(df_psn) > 0:\n",
    "        similarity = df_psn['similarity'].iloc[0]\n",
    "        if similarity > 0.9:\n",
    "            return df_psn\n",
    "        elif similarity > max_similarity:\n",
    "            max_similarity = similarity\n",
    "            df = df_psn\n",
    "    if len(df_person) > 0:\n",
    "        similarity = df_person['similarity'].iloc[0]\n",
    "        if similarity > 0.9:\n",
    "            return df_person\n",
    "        elif similarity > max_similarity:\n",
    "            max_similarity = similarity\n",
    "            df = df_person\n",
    "\n",
    "    # If we don't have a match with a similarity > 0.9, we return the best match\n",
    "    return df\n",
    "\n",
    "\n",
    "def process_patstat_entry(patstat_entry: pd.Series):\n",
    "    \"\"\"Processes a single entry from the patstat data and tries to find a matching firm.\n",
    "\n",
    "    Args:\n",
    "        patstat_entry: A single entry from the patstat data.\n",
    "\n",
    "    Returns:\n",
    "        None\n",
    "    \"\"\"\n",
    "    data = get_best_match(patstat_entry)\n",
    "\n",
    "    if data is not None:\n",
    "        data = data.iloc[0]\n",
    "        insert_match(patstat_entry['han_id'], data['firm_id'], data['similarity'])\n",
    "    else:\n",
    "        insert_match(patstat_entry['han_id'], None, None)"
   ]
  },
  {
   "cell_type": "code",
   "execution_count": 8,
   "metadata": {
    "ExecuteTime": {
     "end_time": "2025-03-10T13:07:25.933963Z",
     "start_time": "2025-03-10T13:07:25.925849Z"
    }
   },
   "outputs": [],
   "source": [
    "def process_patstat_files():\n",
    "    \"\"\"Processes the patstat_data and tries to find matching firms for each entry.\n",
    "\n",
    "    Args:\n",
    "        None\n",
    "    Returns:\n",
    "        None\n",
    "    \"\"\"\n",
    "\n",
    "    sql = \"\"\"\n",
    "        SELECT han_id, han_name, person_name, psn_name\n",
    "        FROM patstat_data\n",
    "        WHERE han_id IN (SELECT DISTINCT(han_id) FROM patstat_data)\n",
    "\n",
    "    \"\"\"\n",
    "    data = con.execute(sql).fetchdf()\n",
    "    for index, row in tqdm(data.iterrows(), total=len(data), desc=\"Processing rows\"):\n",
    "        process_patstat_entry(row)\n"
   ]
  },
  {
   "cell_type": "code",
   "execution_count": 9,
   "metadata": {
    "ExecuteTime": {
     "end_time": "2025-03-10T13:07:26.793186Z",
     "start_time": "2025-03-10T13:07:26.785067Z"
    }
   },
   "outputs": [],
   "source": [
    "def load_patstat_data():\n",
    "    \"\"\"\" Load given patstat data into the database.\n",
    "\n",
    "    Args:\n",
    "        None\n",
    "\n",
    "    Returns:\n",
    "        None\n",
    "    \"\"\"\n",
    "    base_path = '../data/patstat_data/patent_download_sep_2025/Teil2'\n",
    "    # Get all files in the directory\n",
    "    files = os.listdir(base_path)\n",
    "    for file in files:\n",
    "        if file.endswith(\".csv\"):\n",
    "            path = f'{base_path}/{file}'\n",
    "            # print(f\"Processing file {file}. Path: {base_path}\")\n",
    "            patstat_data = pd.read_csv(path, sep=';')\n",
    "            insert_patstat_data(patstat_data)"
   ]
  },
  {
   "cell_type": "code",
   "execution_count": 11,
   "metadata": {
    "ExecuteTime": {
     "end_time": "2025-03-11T03:07:31.212075Z",
     "start_time": "2025-03-10T13:07:29.111390Z"
    }
   },
   "outputs": [
    {
     "name": "stderr",
     "output_type": "stream",
     "text": [
      "/scratch/slurm_tmpdir/job_1395162/ipykernel_55153/519815376.py:17: DtypeWarning: Columns (17) have mixed types. Specify dtype option on import or set low_memory=False.\n",
      "  patstat_data = pd.read_csv(path, sep=';')\n",
      "/scratch/slurm_tmpdir/job_1395162/ipykernel_55153/519815376.py:17: DtypeWarning: Columns (17) have mixed types. Specify dtype option on import or set low_memory=False.\n",
      "  patstat_data = pd.read_csv(path, sep=';')\n",
      "/scratch/slurm_tmpdir/job_1395162/ipykernel_55153/519815376.py:17: DtypeWarning: Columns (17) have mixed types. Specify dtype option on import or set low_memory=False.\n",
      "  patstat_data = pd.read_csv(path, sep=';')\n",
      "/scratch/slurm_tmpdir/job_1395162/ipykernel_55153/519815376.py:17: DtypeWarning: Columns (17) have mixed types. Specify dtype option on import or set low_memory=False.\n",
      "  patstat_data = pd.read_csv(path, sep=';')\n",
      "/scratch/slurm_tmpdir/job_1395162/ipykernel_55153/519815376.py:17: DtypeWarning: Columns (17) have mixed types. Specify dtype option on import or set low_memory=False.\n",
      "  patstat_data = pd.read_csv(path, sep=';')\n",
      "/scratch/slurm_tmpdir/job_1395162/ipykernel_55153/519815376.py:17: DtypeWarning: Columns (17) have mixed types. Specify dtype option on import or set low_memory=False.\n",
      "  patstat_data = pd.read_csv(path, sep=';')\n",
      "/scratch/slurm_tmpdir/job_1395162/ipykernel_55153/519815376.py:17: DtypeWarning: Columns (17) have mixed types. Specify dtype option on import or set low_memory=False.\n",
      "  patstat_data = pd.read_csv(path, sep=';')\n",
      "/scratch/slurm_tmpdir/job_1395162/ipykernel_55153/519815376.py:17: DtypeWarning: Columns (17) have mixed types. Specify dtype option on import or set low_memory=False.\n",
      "  patstat_data = pd.read_csv(path, sep=';')\n",
      "/scratch/slurm_tmpdir/job_1395162/ipykernel_55153/519815376.py:17: DtypeWarning: Columns (17) have mixed types. Specify dtype option on import or set low_memory=False.\n",
      "  patstat_data = pd.read_csv(path, sep=';')\n",
      "/scratch/slurm_tmpdir/job_1395162/ipykernel_55153/519815376.py:17: DtypeWarning: Columns (17) have mixed types. Specify dtype option on import or set low_memory=False.\n",
      "  patstat_data = pd.read_csv(path, sep=';')\n",
      "/scratch/slurm_tmpdir/job_1395162/ipykernel_55153/519815376.py:17: DtypeWarning: Columns (17) have mixed types. Specify dtype option on import or set low_memory=False.\n",
      "  patstat_data = pd.read_csv(path, sep=';')\n",
      "/scratch/slurm_tmpdir/job_1395162/ipykernel_55153/519815376.py:17: DtypeWarning: Columns (17) have mixed types. Specify dtype option on import or set low_memory=False.\n",
      "  patstat_data = pd.read_csv(path, sep=';')\n",
      "/scratch/slurm_tmpdir/job_1395162/ipykernel_55153/519815376.py:17: DtypeWarning: Columns (17) have mixed types. Specify dtype option on import or set low_memory=False.\n",
      "  patstat_data = pd.read_csv(path, sep=';')\n",
      "/scratch/slurm_tmpdir/job_1395162/ipykernel_55153/519815376.py:17: DtypeWarning: Columns (17) have mixed types. Specify dtype option on import or set low_memory=False.\n",
      "  patstat_data = pd.read_csv(path, sep=';')\n",
      "/scratch/slurm_tmpdir/job_1395162/ipykernel_55153/519815376.py:17: DtypeWarning: Columns (17) have mixed types. Specify dtype option on import or set low_memory=False.\n",
      "  patstat_data = pd.read_csv(path, sep=';')\n",
      "/scratch/slurm_tmpdir/job_1395162/ipykernel_55153/519815376.py:17: DtypeWarning: Columns (17) have mixed types. Specify dtype option on import or set low_memory=False.\n",
      "  patstat_data = pd.read_csv(path, sep=';')\n",
      "/scratch/slurm_tmpdir/job_1395162/ipykernel_55153/519815376.py:17: DtypeWarning: Columns (17) have mixed types. Specify dtype option on import or set low_memory=False.\n",
      "  patstat_data = pd.read_csv(path, sep=';')\n",
      "/scratch/slurm_tmpdir/job_1395162/ipykernel_55153/519815376.py:17: DtypeWarning: Columns (17) have mixed types. Specify dtype option on import or set low_memory=False.\n",
      "  patstat_data = pd.read_csv(path, sep=';')\n"
     ]
    },
    {
     "data": {
      "application/vnd.jupyter.widget-view+json": {
       "model_id": "4a3551a961a840e0bf13bac6d1593561",
       "version_major": 2,
       "version_minor": 0
      },
      "text/plain": [
       "FloatProgress(value=0.0, layout=Layout(width='auto'), style=ProgressStyle(bar_color='black'))"
      ]
     },
     "metadata": {},
     "output_type": "display_data"
    },
    {
     "name": "stdout",
     "output_type": "stream",
     "text": [
      "Start processing\n"
     ]
    }
   ],
   "source": [
    "if __name__ == \"__main__\":\n",
    "    # print(\"Wiping database\")\n",
    "    # wipe_database()\n",
    "    # print(\"Loading patstat data\")\n",
    "    # create_base_tables(firm_names_data)\n",
    "    # create_patstat_database()\n",
    "    # create_match_table()\n",
    "    load_patstat_data()\n",
    "    print(\"Start processing\")\n",
    "    # process_patstat_files()"
   ]
  },
  {
   "cell_type": "code",
   "execution_count": 105,
   "metadata": {
    "ExecuteTime": {
     "end_time": "2025-02-21T16:06:30.621501Z",
     "start_time": "2025-02-21T16:06:30.593251Z"
    }
   },
   "outputs": [
    {
     "data": {
      "text/html": [
       "<div>\n",
       "<style scoped>\n",
       "    .dataframe tbody tr th:only-of-type {\n",
       "        vertical-align: middle;\n",
       "    }\n",
       "\n",
       "    .dataframe tbody tr th {\n",
       "        vertical-align: top;\n",
       "    }\n",
       "\n",
       "    .dataframe thead th {\n",
       "        text-align: right;\n",
       "    }\n",
       "</style>\n",
       "<table border=\"1\" class=\"dataframe\">\n",
       "  <thead>\n",
       "    <tr style=\"text-align: right;\">\n",
       "      <th></th>\n",
       "      <th>firm_id</th>\n",
       "      <th>name</th>\n",
       "      <th>similarity</th>\n",
       "    </tr>\n",
       "  </thead>\n",
       "  <tbody>\n",
       "  </tbody>\n",
       "</table>\n",
       "</div>"
      ],
      "text/plain": [
       "Empty DataFrame\n",
       "Columns: [firm_id, name, similarity]\n",
       "Index: []"
      ]
     },
     "execution_count": 105,
     "metadata": {},
     "output_type": "execute_result"
    }
   ],
   "source": [
    "get_matching_firm(\"\")"
   ]
  },
  {
   "cell_type": "code",
   "execution_count": 15,
   "metadata": {
    "ExecuteTime": {
     "end_time": "2025-03-15T11:43:29.695425Z",
     "start_time": "2025-03-15T11:43:29.542429Z"
    }
   },
   "outputs": [
    {
     "data": {
      "text/html": [
       "<div>\n",
       "<style scoped>\n",
       "    .dataframe tbody tr th:only-of-type {\n",
       "        vertical-align: middle;\n",
       "    }\n",
       "\n",
       "    .dataframe tbody tr th {\n",
       "        vertical-align: top;\n",
       "    }\n",
       "\n",
       "    .dataframe thead th {\n",
       "        text-align: right;\n",
       "    }\n",
       "</style>\n",
       "<table border=\"1\" class=\"dataframe\">\n",
       "  <thead>\n",
       "    <tr style=\"text-align: right;\">\n",
       "      <th></th>\n",
       "      <th>firm_id</th>\n",
       "      <th>han_id</th>\n",
       "      <th>similarity</th>\n",
       "      <th>name</th>\n",
       "      <th>han_name</th>\n",
       "      <th>person_name</th>\n",
       "      <th>psn_name</th>\n",
       "    </tr>\n",
       "  </thead>\n",
       "  <tbody>\n",
       "    <tr>\n",
       "      <th>0</th>\n",
       "      <td>888</td>\n",
       "      <td>132992</td>\n",
       "      <td>1.000000</td>\n",
       "      <td>APPLIED MATERIALS INC</td>\n",
       "      <td>APPLIED MATERIALS INC</td>\n",
       "      <td>APPLIED MATERIALS, INC.</td>\n",
       "      <td>APPLIED MATERIALS</td>\n",
       "    </tr>\n",
       "    <tr>\n",
       "      <th>1</th>\n",
       "      <td>3786</td>\n",
       "      <td>696112</td>\n",
       "      <td>1.000000</td>\n",
       "      <td>DISCO CORP</td>\n",
       "      <td>DISCO CORP</td>\n",
       "      <td>DISCO CORPORATION</td>\n",
       "      <td>DISCO CORPORATION</td>\n",
       "    </tr>\n",
       "    <tr>\n",
       "      <th>2</th>\n",
       "      <td>10592</td>\n",
       "      <td>1438789</td>\n",
       "      <td>0.910331</td>\n",
       "      <td>PANGEN BIOTECH INC</td>\n",
       "      <td>JANSSEN BIOTECH INC</td>\n",
       "      <td>JANSSEN BIOTECH, INC.</td>\n",
       "      <td>JANSSEN BIOTECH</td>\n",
       "    </tr>\n",
       "    <tr>\n",
       "      <th>3</th>\n",
       "      <td>445</td>\n",
       "      <td>60901</td>\n",
       "      <td>1.000000</td>\n",
       "      <td>AJINOMOTO CO INC</td>\n",
       "      <td>AJINOMOTO CO INC</td>\n",
       "      <td>AJINOMOTO CO., INC.</td>\n",
       "      <td>AJINOMOTO COMPANY</td>\n",
       "    </tr>\n",
       "    <tr>\n",
       "      <th>4</th>\n",
       "      <td>7900</td>\n",
       "      <td>2081711</td>\n",
       "      <td>1.000000</td>\n",
       "      <td>KUBOTA CORP</td>\n",
       "      <td>KUBOTA CORP</td>\n",
       "      <td>KUBOTA CORPORATION</td>\n",
       "      <td>KUBOTA CORPORATION</td>\n",
       "    </tr>\n",
       "    <tr>\n",
       "      <th>...</th>\n",
       "      <td>...</td>\n",
       "      <td>...</td>\n",
       "      <td>...</td>\n",
       "      <td>...</td>\n",
       "      <td>...</td>\n",
       "      <td>...</td>\n",
       "      <td>...</td>\n",
       "    </tr>\n",
       "    <tr>\n",
       "      <th>30663</th>\n",
       "      <td>6610</td>\n",
       "      <td>1656582</td>\n",
       "      <td>1.000000</td>\n",
       "      <td>IIDA GROUP HOLDINGS CO LTD</td>\n",
       "      <td>IIDA GROUP HOLDINGS CO LTD</td>\n",
       "      <td>IIDA GROUP HOLDINGS CO., LTD.</td>\n",
       "      <td>IIDA GROUP HOLDINGS COMPANY</td>\n",
       "    </tr>\n",
       "    <tr>\n",
       "      <th>30664</th>\n",
       "      <td>12622</td>\n",
       "      <td>165728428</td>\n",
       "      <td>0.940000</td>\n",
       "      <td>SIEMENS AG</td>\n",
       "      <td>СИМЕНС АКЦИЕНГЕЗЕЛЬШАФТ</td>\n",
       "      <td>СИМЕНС АКЦИЕНГЕЗЕЛЬШАФТ</td>\n",
       "      <td>SIEMENS</td>\n",
       "    </tr>\n",
       "    <tr>\n",
       "      <th>30665</th>\n",
       "      <td>12236</td>\n",
       "      <td>161808648</td>\n",
       "      <td>0.903258</td>\n",
       "      <td>SCANDINAVIAN TOBACCO GROUP A/S</td>\n",
       "      <td>СКАНДИНАВИАН ИННОВЭЙШН ГРУП ОЙ</td>\n",
       "      <td>СКАНДИНАВИАН ИННОВЭЙШН ГРУП ОЙ</td>\n",
       "      <td>SCANDINAVIAN INNOVATION GROUP</td>\n",
       "    </tr>\n",
       "    <tr>\n",
       "      <th>30666</th>\n",
       "      <td>4458</td>\n",
       "      <td>3900421</td>\n",
       "      <td>0.977778</td>\n",
       "      <td>ENVIRONMENTAL CLEAN TECHNOLOGIES LTD</td>\n",
       "      <td>ENVAL CLEAN TECH LTD</td>\n",
       "      <td>ENVIRONMENTAL CLEAN TECHNOLOGIES LIMITED</td>\n",
       "      <td>ENVIRONMENTAL CLEAN TECHNOLOGIES LIMITED</td>\n",
       "    </tr>\n",
       "    <tr>\n",
       "      <th>30667</th>\n",
       "      <td>13762</td>\n",
       "      <td>2899942</td>\n",
       "      <td>0.924815</td>\n",
       "      <td>TERAGO INC</td>\n",
       "      <td>TERION AG</td>\n",
       "      <td>TERION AG</td>\n",
       "      <td>TERION AG</td>\n",
       "    </tr>\n",
       "  </tbody>\n",
       "</table>\n",
       "<p>30668 rows × 7 columns</p>\n",
       "</div>"
      ],
      "text/plain": [
       "       firm_id     han_id  similarity                                  name  \\\n",
       "0          888     132992    1.000000                 APPLIED MATERIALS INC   \n",
       "1         3786     696112    1.000000                            DISCO CORP   \n",
       "2        10592    1438789    0.910331                    PANGEN BIOTECH INC   \n",
       "3          445      60901    1.000000                      AJINOMOTO CO INC   \n",
       "4         7900    2081711    1.000000                           KUBOTA CORP   \n",
       "...        ...        ...         ...                                   ...   \n",
       "30663     6610    1656582    1.000000            IIDA GROUP HOLDINGS CO LTD   \n",
       "30664    12622  165728428    0.940000                            SIEMENS AG   \n",
       "30665    12236  161808648    0.903258        SCANDINAVIAN TOBACCO GROUP A/S   \n",
       "30666     4458    3900421    0.977778  ENVIRONMENTAL CLEAN TECHNOLOGIES LTD   \n",
       "30667    13762    2899942    0.924815                            TERAGO INC   \n",
       "\n",
       "                             han_name  \\\n",
       "0               APPLIED MATERIALS INC   \n",
       "1                          DISCO CORP   \n",
       "2                 JANSSEN BIOTECH INC   \n",
       "3                    AJINOMOTO CO INC   \n",
       "4                         KUBOTA CORP   \n",
       "...                               ...   \n",
       "30663      IIDA GROUP HOLDINGS CO LTD   \n",
       "30664         СИМЕНС АКЦИЕНГЕЗЕЛЬШАФТ   \n",
       "30665  СКАНДИНАВИАН ИННОВЭЙШН ГРУП ОЙ   \n",
       "30666            ENVAL CLEAN TECH LTD   \n",
       "30667                       TERION AG   \n",
       "\n",
       "                                    person_name  \\\n",
       "0                       APPLIED MATERIALS, INC.   \n",
       "1                             DISCO CORPORATION   \n",
       "2                         JANSSEN BIOTECH, INC.   \n",
       "3                           AJINOMOTO CO., INC.   \n",
       "4                            KUBOTA CORPORATION   \n",
       "...                                         ...   \n",
       "30663             IIDA GROUP HOLDINGS CO., LTD.   \n",
       "30664                   СИМЕНС АКЦИЕНГЕЗЕЛЬШАФТ   \n",
       "30665            СКАНДИНАВИАН ИННОВЭЙШН ГРУП ОЙ   \n",
       "30666  ENVIRONMENTAL CLEAN TECHNOLOGIES LIMITED   \n",
       "30667                                 TERION AG   \n",
       "\n",
       "                                       psn_name  \n",
       "0                             APPLIED MATERIALS  \n",
       "1                             DISCO CORPORATION  \n",
       "2                               JANSSEN BIOTECH  \n",
       "3                             AJINOMOTO COMPANY  \n",
       "4                            KUBOTA CORPORATION  \n",
       "...                                         ...  \n",
       "30663               IIDA GROUP HOLDINGS COMPANY  \n",
       "30664                                   SIEMENS  \n",
       "30665             SCANDINAVIAN INNOVATION GROUP  \n",
       "30666  ENVIRONMENTAL CLEAN TECHNOLOGIES LIMITED  \n",
       "30667                                 TERION AG  \n",
       "\n",
       "[30668 rows x 7 columns]"
      ]
     },
     "execution_count": 15,
     "metadata": {},
     "output_type": "execute_result"
    }
   ],
   "source": [
    "sql = \"\"\"\n",
    "    SELECT DISTINCT(firm_id), han_id, similarity, name, han_name, person_name, psn_name FROM patstat_firm_match\n",
    "    JOIN firm_names USING(firm_id)\n",
    "    JOIN patstat_data USING(han_id)\n",
    "    WHERE similarity >= 0.9\n",
    "    \"\"\"\n",
    "con.execute(sql).fetchdf()"
   ]
  },
  {
   "cell_type": "code",
   "execution_count": 16,
   "metadata": {
    "ExecuteTime": {
     "end_time": "2025-03-15T11:44:45.880737Z",
     "start_time": "2025-03-15T11:44:45.868738Z"
    }
   },
   "outputs": [
    {
     "data": {
      "text/html": [
       "<div>\n",
       "<style scoped>\n",
       "    .dataframe tbody tr th:only-of-type {\n",
       "        vertical-align: middle;\n",
       "    }\n",
       "\n",
       "    .dataframe tbody tr th {\n",
       "        vertical-align: top;\n",
       "    }\n",
       "\n",
       "    .dataframe thead th {\n",
       "        text-align: right;\n",
       "    }\n",
       "</style>\n",
       "<table border=\"1\" class=\"dataframe\">\n",
       "  <thead>\n",
       "    <tr style=\"text-align: right;\">\n",
       "      <th></th>\n",
       "      <th>count_star()</th>\n",
       "    </tr>\n",
       "  </thead>\n",
       "  <tbody>\n",
       "    <tr>\n",
       "      <th>0</th>\n",
       "      <td>718668</td>\n",
       "    </tr>\n",
       "  </tbody>\n",
       "</table>\n",
       "</div>"
      ],
      "text/plain": [
       "   count_star()\n",
       "0        718668"
      ]
     },
     "execution_count": 16,
     "metadata": {},
     "output_type": "execute_result"
    }
   ],
   "source": [
    "sql = \"\"\"\n",
    "        SELECT count(*) FROM patstat_firm_match\n",
    "    \"\"\"\n",
    "\n",
    "con.execute(sql).fetchdf()"
   ]
  },
  {
   "cell_type": "code",
   "execution_count": 69,
   "metadata": {
    "ExecuteTime": {
     "end_time": "2025-02-21T10:18:49.303343Z",
     "start_time": "2025-02-21T10:18:49.284412Z"
    }
   },
   "outputs": [
    {
     "ename": "InvalidInputException",
     "evalue": "Invalid Input Error: Failed to cast value: Unimplemented type for cast (VARCHAR -> NULL)",
     "output_type": "error",
     "traceback": [
      "\u001b[0;31m---------------------------------------------------------------------------\u001b[0m",
      "\u001b[0;31mInvalidInputException\u001b[0m                     Traceback (most recent call last)",
      "Cell \u001b[0;32mIn[69], line 1\u001b[0m\n\u001b[0;32m----> 1\u001b[0m \u001b[43mcon\u001b[49m\u001b[38;5;241;43m.\u001b[39;49m\u001b[43mexecute\u001b[49m\u001b[43m(\u001b[49m\u001b[38;5;124;43m\"\u001b[39;49m\u001b[38;5;124;43mSELECT * FROM patstat_data_tmp\u001b[39;49m\u001b[38;5;124;43m\"\u001b[39;49m\u001b[43m)\u001b[49m\u001b[38;5;241;43m.\u001b[39;49m\u001b[43mfetchdf\u001b[49m\u001b[43m(\u001b[49m\u001b[43m)\u001b[49m\n",
      "\u001b[0;31mInvalidInputException\u001b[0m: Invalid Input Error: Failed to cast value: Unimplemented type for cast (VARCHAR -> NULL)"
     ]
    }
   ],
   "source": [
    "con.execute(\"SELECT * FROM patstat_data_tmp\").fetchdf()"
   ]
  },
  {
   "cell_type": "code",
   "execution_count": null,
   "metadata": {},
   "outputs": [],
   "source": [
    "firm_names_data"
   ]
  },
  {
   "cell_type": "code",
   "execution_count": 45,
   "metadata": {
    "ExecuteTime": {
     "end_time": "2025-02-19T09:05:57.285057Z",
     "start_time": "2025-02-19T09:05:57.282452Z"
    }
   },
   "outputs": [
    {
     "data": {
      "text/plain": [
       "Unnamed: 0                                    102\n",
       "pat_publn_id                            540273784\n",
       "firm_id                                     10836\n",
       "similarity                                    1.0\n",
       "pat_table                               patents_P\n",
       "name                                   PFIZER INC\n",
       "han_name               BOSTON MEDICAL CENTER CORP\n",
       "person_name     BOSTON MEDICAL CENTER CORPORATION\n",
       "psn_name        BOSTON MEDICAL CENTER CORPORATION\n",
       "Name: 1, dtype: object"
      ]
     },
     "execution_count": 45,
     "metadata": {},
     "output_type": "execute_result"
    }
   ],
   "source": [
    "buggy_data.loc[1]"
   ]
  },
  {
   "cell_type": "code",
   "execution_count": 44,
   "metadata": {
    "ExecuteTime": {
     "end_time": "2025-02-19T09:05:41.046551Z",
     "start_time": "2025-02-19T09:05:41.037837Z"
    }
   },
   "outputs": [
    {
     "data": {
      "text/html": [
       "<div>\n",
       "<style scoped>\n",
       "    .dataframe tbody tr th:only-of-type {\n",
       "        vertical-align: middle;\n",
       "    }\n",
       "\n",
       "    .dataframe tbody tr th {\n",
       "        vertical-align: top;\n",
       "    }\n",
       "\n",
       "    .dataframe thead th {\n",
       "        text-align: right;\n",
       "    }\n",
       "</style>\n",
       "<table border=\"1\" class=\"dataframe\">\n",
       "  <thead>\n",
       "    <tr style=\"text-align: right;\">\n",
       "      <th></th>\n",
       "      <th>firm_id</th>\n",
       "      <th>name</th>\n",
       "      <th>similarity</th>\n",
       "    </tr>\n",
       "  </thead>\n",
       "  <tbody>\n",
       "    <tr>\n",
       "      <th>0</th>\n",
       "      <td>2008</td>\n",
       "      <td>BOSTON BEER COMPANY INC</td>\n",
       "      <td>0.877759</td>\n",
       "    </tr>\n",
       "    <tr>\n",
       "      <th>1</th>\n",
       "      <td>2010</td>\n",
       "      <td>BOSTON SCIENTIFIC CORP</td>\n",
       "      <td>0.857653</td>\n",
       "    </tr>\n",
       "    <tr>\n",
       "      <th>2</th>\n",
       "      <td>2009</td>\n",
       "      <td>BOSTON PROPERTIES INC</td>\n",
       "      <td>0.825458</td>\n",
       "    </tr>\n",
       "    <tr>\n",
       "      <th>3</th>\n",
       "      <td>2022</td>\n",
       "      <td>BOWLIN TRAVEL CENTERS INC</td>\n",
       "      <td>0.808065</td>\n",
       "    </tr>\n",
       "    <tr>\n",
       "      <th>4</th>\n",
       "      <td>15154</td>\n",
       "      <td>WHEATON PRECIOUS METALS CORP</td>\n",
       "      <td>0.801532</td>\n",
       "    </tr>\n",
       "  </tbody>\n",
       "</table>\n",
       "</div>"
      ],
      "text/plain": [
       "   firm_id                          name  similarity\n",
       "0     2008       BOSTON BEER COMPANY INC    0.877759\n",
       "1     2010        BOSTON SCIENTIFIC CORP    0.857653\n",
       "2     2009         BOSTON PROPERTIES INC    0.825458\n",
       "3     2022     BOWLIN TRAVEL CENTERS INC    0.808065\n",
       "4    15154  WHEATON PRECIOUS METALS CORP    0.801532"
      ]
     },
     "execution_count": 44,
     "metadata": {},
     "output_type": "execute_result"
    }
   ],
   "source": [
    "get_best_match(buggy_data.loc[1])"
   ]
  },
  {
   "cell_type": "code",
   "execution_count": 78,
   "metadata": {
    "ExecuteTime": {
     "end_time": "2025-02-19T09:59:56.165404Z",
     "start_time": "2025-02-19T09:59:56.118536Z"
    }
   },
   "outputs": [
    {
     "data": {
      "text/plain": [
       "┌─────────┐\n",
       "│  name   │\n",
       "│ varchar │\n",
       "├─────────┤\n",
       "│ 0 rows  │\n",
       "└─────────┘"
      ]
     },
     "execution_count": 78,
     "metadata": {},
     "output_type": "execute_result"
    }
   ],
   "source": [
    "con.sql('ROLLBACK;')\n",
    "con.sql('show tables')"
   ]
  },
  {
   "cell_type": "code",
   "execution_count": 97,
   "metadata": {
    "ExecuteTime": {
     "end_time": "2025-02-19T10:08:48.097262Z",
     "start_time": "2025-02-19T10:08:48.003514Z"
    }
   },
   "outputs": [
    {
     "data": {
      "text/html": [
       "<div>\n",
       "<style scoped>\n",
       "    .dataframe tbody tr th:only-of-type {\n",
       "        vertical-align: middle;\n",
       "    }\n",
       "\n",
       "    .dataframe tbody tr th {\n",
       "        vertical-align: top;\n",
       "    }\n",
       "\n",
       "    .dataframe thead th {\n",
       "        text-align: right;\n",
       "    }\n",
       "</style>\n",
       "<table border=\"1\" class=\"dataframe\">\n",
       "  <thead>\n",
       "    <tr style=\"text-align: right;\">\n",
       "      <th></th>\n",
       "      <th>pat_publn_id</th>\n",
       "      <th>han_name</th>\n",
       "      <th>person_name</th>\n",
       "      <th>psn_name</th>\n",
       "      <th>han_id</th>\n",
       "    </tr>\n",
       "  </thead>\n",
       "  <tbody>\n",
       "    <tr>\n",
       "      <th>0</th>\n",
       "      <td>306252117</td>\n",
       "      <td>RIFAT GJOTA</td>\n",
       "      <td>RIFAT GJOTA</td>\n",
       "      <td>RIFAT GJOTA</td>\n",
       "      <td>114348731</td>\n",
       "    </tr>\n",
       "    <tr>\n",
       "      <th>1</th>\n",
       "      <td>306479717</td>\n",
       "      <td>SERVOTROL SISTEMAS DE COMANDO AUTOMATICO LDA</td>\n",
       "      <td>SERVOTROL SISTEMAS DE COMANDO AUTOMATICO LDA</td>\n",
       "      <td>SERVOTROL - SISTEMAS DE COMANDO AUTOMATICO</td>\n",
       "      <td>134122706</td>\n",
       "    </tr>\n",
       "    <tr>\n",
       "      <th>2</th>\n",
       "      <td>306479722</td>\n",
       "      <td>GYORGY BARA</td>\n",
       "      <td>GYORGY BARA</td>\n",
       "      <td>GYORGY BARA</td>\n",
       "      <td>134122710</td>\n",
       "    </tr>\n",
       "    <tr>\n",
       "      <th>3</th>\n",
       "      <td>306479722</td>\n",
       "      <td>JOZSEF TALPAG</td>\n",
       "      <td>JOZSEF TALPAG</td>\n",
       "      <td>JOZSEF TALPAG</td>\n",
       "      <td>134122712</td>\n",
       "    </tr>\n",
       "    <tr>\n",
       "      <th>4</th>\n",
       "      <td>306479722</td>\n",
       "      <td>PAL GAVAJDA</td>\n",
       "      <td>PAL GAVAJDA</td>\n",
       "      <td>PAL GAVAJDA</td>\n",
       "      <td>134122711</td>\n",
       "    </tr>\n",
       "    <tr>\n",
       "      <th>...</th>\n",
       "      <td>...</td>\n",
       "      <td>...</td>\n",
       "      <td>...</td>\n",
       "      <td>...</td>\n",
       "      <td>...</td>\n",
       "    </tr>\n",
       "    <tr>\n",
       "      <th>113724</th>\n",
       "      <td>606189813</td>\n",
       "      <td>KITE PHARMA INC</td>\n",
       "      <td>KITE PHARMA, INC.</td>\n",
       "      <td>KITE PHARMA</td>\n",
       "      <td>1968026</td>\n",
       "    </tr>\n",
       "    <tr>\n",
       "      <th>113725</th>\n",
       "      <td>606189855</td>\n",
       "      <td>LUKOMSKI TOMASZ</td>\n",
       "      <td>ŁUKOMSKI TOMASZ</td>\n",
       "      <td>ŁUKOMSKI TOMASZ</td>\n",
       "      <td>4557906</td>\n",
       "    </tr>\n",
       "    <tr>\n",
       "      <th>113726</th>\n",
       "      <td>606189859</td>\n",
       "      <td>ALFA LAVAL CORPORATE AB</td>\n",
       "      <td>ALFA LAVAL CORPORATE AB</td>\n",
       "      <td>ALFA LAVAL</td>\n",
       "      <td>92321</td>\n",
       "    </tr>\n",
       "    <tr>\n",
       "      <th>113727</th>\n",
       "      <td>606189861</td>\n",
       "      <td>ISTA SE</td>\n",
       "      <td>ISTA SE</td>\n",
       "      <td>ISTA SE</td>\n",
       "      <td>191743558</td>\n",
       "    </tr>\n",
       "    <tr>\n",
       "      <th>113728</th>\n",
       "      <td>606189863</td>\n",
       "      <td>HEMOLENS DIAGNOSTICS SPÓŁKA Z OGRANICZONĄ ODPO...</td>\n",
       "      <td>HEMOLENS DIAGNOSTICS SPÓŁKA Z OGRANICZONĄ ODPO...</td>\n",
       "      <td>HEMOLENS DIAGNOSTICS SPÓŁKA Z OGRANICZONĄ ODPO...</td>\n",
       "      <td>191775525</td>\n",
       "    </tr>\n",
       "  </tbody>\n",
       "</table>\n",
       "<p>113729 rows × 5 columns</p>\n",
       "</div>"
      ],
      "text/plain": [
       "        pat_publn_id                                           han_name  \\\n",
       "0          306252117                                        RIFAT GJOTA   \n",
       "1          306479717       SERVOTROL SISTEMAS DE COMANDO AUTOMATICO LDA   \n",
       "2          306479722                                        GYORGY BARA   \n",
       "3          306479722                                      JOZSEF TALPAG   \n",
       "4          306479722                                        PAL GAVAJDA   \n",
       "...              ...                                                ...   \n",
       "113724     606189813                                    KITE PHARMA INC   \n",
       "113725     606189855                                    LUKOMSKI TOMASZ   \n",
       "113726     606189859                            ALFA LAVAL CORPORATE AB   \n",
       "113727     606189861                                            ISTA SE   \n",
       "113728     606189863  HEMOLENS DIAGNOSTICS SPÓŁKA Z OGRANICZONĄ ODPO...   \n",
       "\n",
       "                                              person_name  \\\n",
       "0                                             RIFAT GJOTA   \n",
       "1            SERVOTROL SISTEMAS DE COMANDO AUTOMATICO LDA   \n",
       "2                                             GYORGY BARA   \n",
       "3                                           JOZSEF TALPAG   \n",
       "4                                             PAL GAVAJDA   \n",
       "...                                                   ...   \n",
       "113724                                  KITE PHARMA, INC.   \n",
       "113725                                    ŁUKOMSKI TOMASZ   \n",
       "113726                            ALFA LAVAL CORPORATE AB   \n",
       "113727                                            ISTA SE   \n",
       "113728  HEMOLENS DIAGNOSTICS SPÓŁKA Z OGRANICZONĄ ODPO...   \n",
       "\n",
       "                                                 psn_name     han_id  \n",
       "0                                             RIFAT GJOTA  114348731  \n",
       "1              SERVOTROL - SISTEMAS DE COMANDO AUTOMATICO  134122706  \n",
       "2                                             GYORGY BARA  134122710  \n",
       "3                                           JOZSEF TALPAG  134122712  \n",
       "4                                             PAL GAVAJDA  134122711  \n",
       "...                                                   ...        ...  \n",
       "113724                                        KITE PHARMA    1968026  \n",
       "113725                                    ŁUKOMSKI TOMASZ    4557906  \n",
       "113726                                         ALFA LAVAL      92321  \n",
       "113727                                            ISTA SE  191743558  \n",
       "113728  HEMOLENS DIAGNOSTICS SPÓŁKA Z OGRANICZONĄ ODPO...  191775525  \n",
       "\n",
       "[113729 rows x 5 columns]"
      ]
     },
     "execution_count": 97,
     "metadata": {},
     "output_type": "execute_result"
    }
   ],
   "source": [
    "con.sql('select * from patstat_patents_P').fetchdf()"
   ]
  },
  {
   "cell_type": "code",
   "execution_count": 12,
   "metadata": {},
   "outputs": [],
   "source": [
    "con.close()"
   ]
  },
  {
   "cell_type": "code",
   "execution_count": null,
   "metadata": {},
   "outputs": [],
   "source": []
  }
 ],
 "metadata": {
  "kernelspec": {
   "display_name": "Python 3 (ipykernel)",
   "language": "python",
   "name": "python3"
  },
  "language_info": {
   "codemirror_mode": {
    "name": "ipython",
    "version": 3
   },
   "file_extension": ".py",
   "mimetype": "text/x-python",
   "name": "python",
   "nbconvert_exporter": "python",
   "pygments_lexer": "ipython3",
   "version": "3.11.7"
  }
 },
 "nbformat": 4,
 "nbformat_minor": 4
}
