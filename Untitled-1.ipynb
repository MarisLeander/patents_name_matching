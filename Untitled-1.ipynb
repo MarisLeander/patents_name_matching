{
 "cells": [
  {
   "cell_type": "code",
   "execution_count": 15,
   "metadata": {},
   "outputs": [],
   "source": [
    "import pandas as pd\n",
    "import duckdb as db\n",
    "\n",
    "# establish a connection to the database\n",
    "con = db.connect(database='patent_database', read_only=False)"
   ]
  },
  {
   "cell_type": "code",
   "execution_count": 7,
   "metadata": {},
   "outputs": [],
   "source": [
    "# Read the data from the CSV file\n",
    "patstat_data = pd.read_csv('Export_Patstat_Test_16092024.csv', sep=';')\n",
    "firm_names_data = pd.read_excel('Firm_names_Refinitiv.xls')"
   ]
  },
  {
   "cell_type": "code",
   "execution_count": 23,
   "metadata": {},
   "outputs": [],
   "source": [
    "# Create the tables in the database\n",
    "con.sql(\"CREATE TABLE IF NOT EXISTS patstat_data AS SELECT pat_publn_id, han_name, person_name, psn_name FROM patstat_data\")\n",
    "con.sql(\"CREATE TABLE IF NOT EXISTS firm_names_data AS SELECT name, ISIN FROM firm_names_data\")"
   ]
  },
  {
   "cell_type": "code",
   "execution_count": 44,
   "metadata": {},
   "outputs": [
    {
     "data": {
      "text/html": [
       "<div>\n",
       "<style scoped>\n",
       "    .dataframe tbody tr th:only-of-type {\n",
       "        vertical-align: middle;\n",
       "    }\n",
       "\n",
       "    .dataframe tbody tr th {\n",
       "        vertical-align: top;\n",
       "    }\n",
       "\n",
       "    .dataframe thead th {\n",
       "        text-align: right;\n",
       "    }\n",
       "</style>\n",
       "<table border=\"1\" class=\"dataframe\">\n",
       "  <thead>\n",
       "    <tr style=\"text-align: right;\">\n",
       "      <th></th>\n",
       "      <th>pat_publn_id</th>\n",
       "      <th>han_name</th>\n",
       "      <th>person_name</th>\n",
       "      <th>psn_name</th>\n",
       "    </tr>\n",
       "  </thead>\n",
       "  <tbody>\n",
       "    <tr>\n",
       "      <th>0</th>\n",
       "      <td>322747145</td>\n",
       "      <td>Siemens AG</td>\n",
       "      <td>Siemens AG</td>\n",
       "      <td>SIEMENS</td>\n",
       "    </tr>\n",
       "    <tr>\n",
       "      <th>1</th>\n",
       "      <td>322747219</td>\n",
       "      <td>Siemens AG</td>\n",
       "      <td>Siemens AG</td>\n",
       "      <td>SIEMENS</td>\n",
       "    </tr>\n",
       "    <tr>\n",
       "      <th>2</th>\n",
       "      <td>322748120</td>\n",
       "      <td>Siemens AG</td>\n",
       "      <td>Siemens AG</td>\n",
       "      <td>SIEMENS</td>\n",
       "    </tr>\n",
       "    <tr>\n",
       "      <th>3</th>\n",
       "      <td>322748342</td>\n",
       "      <td>Siemens AG</td>\n",
       "      <td>Siemens AG</td>\n",
       "      <td>SIEMENS</td>\n",
       "    </tr>\n",
       "    <tr>\n",
       "      <th>4</th>\n",
       "      <td>322748368</td>\n",
       "      <td>Siemens AG</td>\n",
       "      <td>Siemens AG</td>\n",
       "      <td>SIEMENS</td>\n",
       "    </tr>\n",
       "    <tr>\n",
       "      <th>...</th>\n",
       "      <td>...</td>\n",
       "      <td>...</td>\n",
       "      <td>...</td>\n",
       "      <td>...</td>\n",
       "    </tr>\n",
       "    <tr>\n",
       "      <th>436</th>\n",
       "      <td>386429829</td>\n",
       "      <td>Siemens AG</td>\n",
       "      <td>Siemens AG</td>\n",
       "      <td>SIEMENS</td>\n",
       "    </tr>\n",
       "    <tr>\n",
       "      <th>437</th>\n",
       "      <td>386430209</td>\n",
       "      <td>Siemens AG</td>\n",
       "      <td>Siemens AG</td>\n",
       "      <td>SIEMENS</td>\n",
       "    </tr>\n",
       "    <tr>\n",
       "      <th>438</th>\n",
       "      <td>386430860</td>\n",
       "      <td>Siemens AG</td>\n",
       "      <td>Siemens AG</td>\n",
       "      <td>SIEMENS</td>\n",
       "    </tr>\n",
       "    <tr>\n",
       "      <th>439</th>\n",
       "      <td>386431224</td>\n",
       "      <td>Siemens AG</td>\n",
       "      <td>Siemens AG</td>\n",
       "      <td>SIEMENS</td>\n",
       "    </tr>\n",
       "    <tr>\n",
       "      <th>440</th>\n",
       "      <td>386431283</td>\n",
       "      <td>Siemens AG</td>\n",
       "      <td>Siemens AG</td>\n",
       "      <td>SIEMENS</td>\n",
       "    </tr>\n",
       "  </tbody>\n",
       "</table>\n",
       "<p>441 rows × 4 columns</p>\n",
       "</div>"
      ],
      "text/plain": [
       "     pat_publn_id    han_name person_name psn_name\n",
       "0       322747145  Siemens AG  Siemens AG  SIEMENS\n",
       "1       322747219  Siemens AG  Siemens AG  SIEMENS\n",
       "2       322748120  Siemens AG  Siemens AG  SIEMENS\n",
       "3       322748342  Siemens AG  Siemens AG  SIEMENS\n",
       "4       322748368  Siemens AG  Siemens AG  SIEMENS\n",
       "..            ...         ...         ...      ...\n",
       "436     386429829  Siemens AG  Siemens AG  SIEMENS\n",
       "437     386430209  Siemens AG  Siemens AG  SIEMENS\n",
       "438     386430860  Siemens AG  Siemens AG  SIEMENS\n",
       "439     386431224  Siemens AG  Siemens AG  SIEMENS\n",
       "440     386431283  Siemens AG  Siemens AG  SIEMENS\n",
       "\n",
       "[441 rows x 4 columns]"
      ]
     },
     "execution_count": 44,
     "metadata": {},
     "output_type": "execute_result"
    }
   ],
   "source": [
    "con.sql(\"SELECT * FROM patstat_data WHERE han_name LIKE '%Siemens AG%' OFFSET 300\").fetchdf()"
   ]
  },
  {
   "cell_type": "code",
   "execution_count": 45,
   "metadata": {},
   "outputs": [
    {
     "data": {
      "text/html": [
       "<div>\n",
       "<style scoped>\n",
       "    .dataframe tbody tr th:only-of-type {\n",
       "        vertical-align: middle;\n",
       "    }\n",
       "\n",
       "    .dataframe tbody tr th {\n",
       "        vertical-align: top;\n",
       "    }\n",
       "\n",
       "    .dataframe thead th {\n",
       "        text-align: right;\n",
       "    }\n",
       "</style>\n",
       "<table border=\"1\" class=\"dataframe\">\n",
       "  <thead>\n",
       "    <tr style=\"text-align: right;\">\n",
       "      <th></th>\n",
       "      <th>count_star()</th>\n",
       "    </tr>\n",
       "  </thead>\n",
       "  <tbody>\n",
       "    <tr>\n",
       "      <th>0</th>\n",
       "      <td>14486</td>\n",
       "    </tr>\n",
       "  </tbody>\n",
       "</table>\n",
       "</div>"
      ],
      "text/plain": [
       "   count_star()\n",
       "0         14486"
      ]
     },
     "execution_count": 45,
     "metadata": {},
     "output_type": "execute_result"
    }
   ],
   "source": [
    "con.sql(\"SELECT COUNT(*) FROM firm_names_data\").fetchdf()"
   ]
  },
  {
   "cell_type": "code",
   "execution_count": null,
   "metadata": {},
   "outputs": [],
   "source": []
  }
 ],
 "metadata": {
  "kernelspec": {
   "display_name": "base",
   "language": "python",
   "name": "python3"
  },
  "language_info": {
   "codemirror_mode": {
    "name": "ipython",
    "version": 3
   },
   "file_extension": ".py",
   "mimetype": "text/x-python",
   "name": "python",
   "nbconvert_exporter": "python",
   "pygments_lexer": "ipython3",
   "version": "3.9.12"
  }
 },
 "nbformat": 4,
 "nbformat_minor": 2
}
