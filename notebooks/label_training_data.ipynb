{
 "cells": [
  {
   "metadata": {
    "ExecuteTime": {
     "end_time": "2025-02-22T15:12:59.855923Z",
     "start_time": "2025-02-22T15:12:59.853148Z"
    }
   },
   "cell_type": "code",
   "source": [
    "# @ todo imports\n",
    "import json\n",
    "import duckdb\n",
    "from google import genai\n",
    "from google.genai import types\n",
    "from datetime import datetime"
   ],
   "id": "b7e40f80283261c",
   "outputs": [],
   "execution_count": 31
  },
  {
   "metadata": {
    "ExecuteTime": {
     "end_time": "2025-02-22T15:12:59.974405Z",
     "start_time": "2025-02-22T15:12:59.971174Z"
    }
   },
   "cell_type": "code",
   "source": [
    "def get_api_key() -> str:\n",
    "    \"\"\"Gets the users Google Gemini api key from the config file\n",
    "\n",
    "    Args:\n",
    "        None\n",
    "\n",
    "    Returns:\n",
    "        The Google Gemini api key of the user\n",
    "    \"\"\"\n",
    "    with open(\"../config.json\", \"r\") as config_file:\n",
    "        config = json.load(config_file)\n",
    "    return config.get(\"gemini_api_key\")\n",
    "\n",
    "def write_log(msg: str, logfile: str):\n",
    "    \"\"\"Writes a message to the log file.\n",
    "\n",
    "    Args:\n",
    "        msg: The message to write to the log file\n",
    "        logfile: The name of the log file\n",
    "\n",
    "    Returns:\n",
    "        None\n",
    "    \"\"\"\n",
    "    file_path = f\"../logs/{logfile}\"\n",
    "    with open(file_path, \"a\") as log_file:\n",
    "        timestamp = datetime.now().strftime(\"%Y-%m-%d %H:%M:%S\")\n",
    "        log_file.write(f\"{timestamp}\\n{msg}\\n\\n\")"
   ],
   "id": "d09b56d21a6bbe01",
   "outputs": [],
   "execution_count": 32
  },
  {
   "metadata": {
    "ExecuteTime": {
     "end_time": "2025-02-22T15:13:00.076894Z",
     "start_time": "2025-02-22T15:13:00.073989Z"
    }
   },
   "cell_type": "code",
   "source": [
    "client = genai.Client(api_key=get_api_key())\n",
    "\n",
    "# Connect to the database\n",
    "con = duckdb.connect(database='patent_database', read_only=False)"
   ],
   "id": "3852177fd85367b1",
   "outputs": [],
   "execution_count": 33
  },
  {
   "metadata": {
    "ExecuteTime": {
     "end_time": "2025-02-22T15:17:24.429332Z",
     "start_time": "2025-02-22T15:17:24.425712Z"
    }
   },
   "cell_type": "code",
   "source": [
    "def create_label_table(reset: bool = False):\n",
    "    \"\"\"Creates a table in the database to store the labels\n",
    "\n",
    "    Args:\n",
    "        reset: Whether to reset the table if it already exists\n",
    "    Returns:\n",
    "        None\n",
    "    \"\"\"\n",
    "    if reset:\n",
    "        con.execute(\"DROP TABLE IF EXISTS labels\")\n",
    "\n",
    "    con.execute(\"\"\"\n",
    "        CREATE TABLE IF NOT EXISTS labels (\n",
    "            han_id INTEGER,\n",
    "            firm_id INTEGER REFERENCES firm_names(firm_id),\n",
    "            label INTEGER\n",
    "        )\n",
    "    \"\"\")\n",
    "\n",
    "def insert_label(han_id: int, firm_id: int, label: int):\n",
    "    \"\"\"Inserts a label into the label table\n",
    "\n",
    "    Args:\n",
    "        han_id: The id of the han record\n",
    "        firm_id: The id of the firm record\n",
    "        label: The label of the record\n",
    "    Returns:\n",
    "        None\n",
    "    \"\"\"\n",
    "    con.execute(f\"\"\"\n",
    "        INSERT INTO labels\n",
    "        VALUES ({han_id}, {firm_id}, {label})\n",
    "    \"\"\")"
   ],
   "id": "229ba6815c1ec6c8",
   "outputs": [],
   "execution_count": 51
  },
  {
   "metadata": {
    "ExecuteTime": {
     "end_time": "2025-02-22T15:17:24.646686Z",
     "start_time": "2025-02-22T15:17:24.642569Z"
    }
   },
   "cell_type": "code",
   "source": [
    "def call_gemini_api(input_data: str) -> dict:\n",
    "    \"\"\"Calls the Google Gemini API to determine if the name is a match to the han_name, person_name and psn_name\n",
    "\n",
    "    Args:\n",
    "        input_data: The data to be sent to the API\n",
    "    Returns:\n",
    "        The response from the API\n",
    "    \"\"\"\n",
    "\n",
    "    prompt = f\"\"\"\n",
    "    You are an expert in entity resolution. I will provide you with multiple name variants for a single company record.\n",
    "    Your task is to determine if the variable \"name\" matches to the patstat names, which are \"han_name\", \"person_name\" and \"psn_name\".\n",
    "    The 'Input Data' is provided below in JSON format.\n",
    "\n",
    "    **Output your answers in the following JSON format.**  The output should be a single JSON object containing  the following key-value pairs.:\n",
    "    - 'firm_id': must match the 'firm_id' in the input data\n",
    "    - 'han_id': must match the 'han_id' in the input data\n",
    "    - 'label': must be either '1' if match, i.e. they refer to the same company or '0' if they do not\n",
    "\n",
    "    ```json\n",
    "    {{\n",
    "      \"firm_id\":  // The firm_id of the record,\n",
    "      \"han_id\":   // The han_id of the record,\n",
    "      \"label\":    // \"match\" or \"no_match\"\n",
    "    }}\n",
    "    ```\n",
    "    **Input Data:**\n",
    "\n",
    "    ```json\n",
    "    {input_data}\n",
    "    \"\"\"\n",
    "\n",
    "    response = client.models.generate_content(\n",
    "        model='gemini-2.0-flash',\n",
    "        contents=prompt,\n",
    "        config=types.GenerateContentConfig(\n",
    "        temperature=0.0\n",
    "        )\n",
    "    )\n",
    "\n",
    "    try:\n",
    "        # Preprocess the model response\n",
    "        lines = response.text.splitlines()\n",
    "        # Remove lines that start with backticks\n",
    "        filtered_lines = [line for line in lines if not line.strip().startswith(\"```\")]\n",
    "        # If the first (or any) line is just 'json', remove that too\n",
    "        filtered_lines = [line for line in filtered_lines if line.strip().lower() != \"json\"]\n",
    "\n",
    "        json_str = \"\\n\".join(filtered_lines)\n",
    "        return json.loads(json_str)\n",
    "\n",
    "    except json.JSONDecodeError:\n",
    "        print(\"Error: Gemini API did not return valid JSON.\")\n",
    "        write_log(f\"Error: Gemini API did not return valid JSON.\\n\\n{response.text}\", \"label_training_api_call_log.txt\")\n",
    "\n",
    "\n",
    "def process_gemini_response(response: dict):\n",
    "    \"\"\"Processes the response from the Gemini API\n",
    "\n",
    "    Args:\n",
    "        response: The response from the Gemini API\n",
    "    Returns:\n",
    "        None\n",
    "    \"\"\"\n",
    "    han_id = response.get(\"han_id\")\n",
    "    firm_id = response.get(\"firm_id\")\n",
    "    label = response.get(\"label\")\n",
    "    print(f\"han_id: {han_id}, firm_id: {firm_id}, label: {label}\")\n",
    "    insert_label(han_id, firm_id, label)"
   ],
   "id": "baaadafefa30cc93",
   "outputs": [],
   "execution_count": 52
  },
  {
   "metadata": {
    "ExecuteTime": {
     "end_time": "2025-02-22T15:17:25.042978Z",
     "start_time": "2025-02-22T15:17:25.039994Z"
    }
   },
   "cell_type": "code",
   "source": [
    "def process_data():\n",
    "    \"\"\"Processes the data in the database\n",
    "\n",
    "    Args:\n",
    "        None\n",
    "    Returns:\n",
    "        None\n",
    "    \"\"\"\n",
    "    sql = \"\"\"\n",
    "    SELECT DISTINCT(firm_id), han_id, similarity, name, han_name, person_name, psn_name FROM patstat_firm_match\n",
    "    JOIN firm_names USING(firm_id)\n",
    "    JOIN patstat_data USING(han_id)\n",
    "    WHERE similarity > 0.87\n",
    "    \"\"\"\n",
    "    data = con.execute(sql).fetchdf()\n",
    "    for _, row in data.iterrows():\n",
    "        response = call_gemini_api(row.to_json())\n",
    "        process_gemini_response(response)"
   ],
   "id": "214b03b3e835d827",
   "outputs": [],
   "execution_count": 53
  },
  {
   "metadata": {
    "jupyter": {
     "is_executing": true
    },
    "ExecuteTime": {
     "start_time": "2025-02-22T15:17:25.453602Z"
    }
   },
   "cell_type": "code",
   "source": [
    "if __name__ == \"__main__\":\n",
    "    create_label_table(True)\n",
    "    process_data()"
   ],
   "id": "bf342b6c891eb1b3",
   "outputs": [
    {
     "name": "stdout",
     "output_type": "stream",
     "text": [
      "han_id: 868544, firm_id: 5017, label: 1\n",
      "han_id: 1384087, firm_id: 6729, label: 1\n",
      "han_id: 3653281, firm_id: 10848, label: 0\n",
      "han_id: 1432953, firm_id: 6881, label: 1\n",
      "han_id: 4536091, firm_id: 3254, label: 0\n",
      "han_id: 366042, firm_id: 1645, label: 0\n",
      "han_id: 2163779, firm_id: 9189, label: 0\n",
      "han_id: 4698488, firm_id: 9563, label: 0\n",
      "han_id: 1636172, firm_id: 13430, label: 0\n",
      "han_id: 4653424, firm_id: 12495, label: 1\n",
      "han_id: 369580, firm_id: 1933, label: 1\n",
      "han_id: 10961, firm_id: 9575, label: 1\n",
      "han_id: 3289414, firm_id: 14134, label: 1\n",
      "han_id: 4398346, firm_id: 3918, label: 0\n",
      "han_id: 181583047, firm_id: 12260, label: 0\n",
      "han_id: 555281, firm_id: 6175, label: 0\n",
      "han_id: 1904196, firm_id: 13308, label: 1\n",
      "han_id: 3288696, firm_id: 10592, label: 0\n",
      "han_id: 2409972, firm_id: 11581, label: 1\n",
      "han_id: 297236, firm_id: 1662, label: 0\n",
      "han_id: 1631792, firm_id: 7583, label: 0\n",
      "han_id: 3094619, firm_id: 14538, label: 0\n",
      "han_id: 1982247, firm_id: 9096, label: 0\n",
      "han_id: 1514031, firm_id: 13307, label: 1\n",
      "han_id: 4276287, firm_id: 1384, label: 1\n",
      "han_id: 2596447, firm_id: 12359, label: 1\n",
      "han_id: 3090726, firm_id: 14525, label: 0\n",
      "han_id: 1904196, firm_id: 13308, label: 1\n",
      "han_id: 1981073, firm_id: 9114, label: 1\n",
      "han_id: 1337324, firm_id: 15235, label: 0\n",
      "han_id: 1438789, firm_id: 10592, label: 0\n",
      "han_id: 1614162, firm_id: 12547, label: 1\n",
      "han_id: 422812, firm_id: 2553, label: 1\n",
      "han_id: 840063, firm_id: 4648, label: 0\n",
      "han_id: 2449203, firm_id: 11764, label: 1\n",
      "han_id: 1166688, firm_id: 5952, label: 0\n",
      "han_id: 177565, firm_id: 1165, label: 1\n",
      "han_id: 1527459, firm_id: 7221, label: 1\n",
      "han_id: 2514479, firm_id: 8952, label: 0\n",
      "han_id: 1222770, firm_id: 6142, label: 1\n",
      "han_id: 2853133, firm_id: 13313, label: 1\n",
      "han_id: 2413635, firm_id: 11595, label: 1\n",
      "han_id: 3096508, firm_id: 14534, label: 0\n",
      "han_id: 3516936, firm_id: 14924, label: 0\n",
      "han_id: 721602, firm_id: 12881, label: 0\n",
      "han_id: 79922, firm_id: 565, label: 0\n",
      "han_id: 4657231, firm_id: 9608, label: 0\n",
      "han_id: 4533032, firm_id: 11064, label: 0\n",
      "han_id: 2692713, firm_id: 12373, label: 1\n",
      "han_id: 2707377, firm_id: 9592, label: 0\n",
      "han_id: 4610892, firm_id: 1921, label: 0\n",
      "han_id: 144209437, firm_id: 8622, label: 0\n",
      "han_id: 2541279, firm_id: 12160, label: 1\n",
      "han_id: 2379117, firm_id: 11372, label: 1\n",
      "han_id: 1032973, firm_id: 5418, label: 1\n",
      "han_id: 14313, firm_id: 96, label: 1\n",
      "han_id: 3822166, firm_id: 5453, label: 1\n",
      "han_id: 2989699, firm_id: 14111, label: 1\n",
      "han_id: 228842, firm_id: 1588, label: 1\n",
      "han_id: 672863, firm_id: 3737, label: 1\n",
      "han_id: 1614162, firm_id: 12547, label: 1\n",
      "han_id: 1982247, firm_id: 9096, label: 0\n",
      "han_id: 2285084, firm_id: 10836, label: 1\n",
      "han_id: 1543981, firm_id: 7033, label: 0\n",
      "han_id: 348886, firm_id: 2094, label: 0\n",
      "han_id: 539330, firm_id: 8966, label: 0\n",
      "han_id: 7569, firm_id: 12070, label: 1\n",
      "han_id: 2828101, firm_id: 13312, label: 1\n",
      "han_id: 2976797, firm_id: 15466, label: 1\n",
      "han_id: 6013, firm_id: 6314, label: 1\n",
      "han_id: 113103623, firm_id: 3501, label: 0\n",
      "han_id: 1032537, firm_id: 5400, label: 0\n",
      "han_id: 153580, firm_id: 1080, label: 0\n",
      "han_id: 430723, firm_id: 2624, label: 0\n",
      "han_id: 2103650, firm_id: 9739, label: 1\n",
      "han_id: 3374806, firm_id: 15343, label: 1\n",
      "han_id: 2136895, firm_id: 10041, label: 1\n",
      "han_id: 514247, firm_id: 12321, label: 1\n",
      "han_id: 348886, firm_id: 2094, label: 0\n",
      "han_id: 478577, firm_id: 2633, label: 0\n",
      "han_id: 670997, firm_id: 3683, label: 1\n",
      "han_id: 2619342, firm_id: 12249, label: 0\n",
      "han_id: 1940802, firm_id: 8216, label: 0\n",
      "han_id: 136079, firm_id: 859, label: 1\n",
      "han_id: 189938685, firm_id: 2617, label: 0\n",
      "han_id: 255832, firm_id: 13863, label: 1\n",
      "han_id: 2800858, firm_id: 10408, label: 1\n",
      "han_id: 905261, firm_id: 7084, label: 0\n",
      "han_id: 4689880, firm_id: 3248, label: 0\n",
      "han_id: 4393823, firm_id: 14841, label: 0\n",
      "han_id: 4529991, firm_id: 10432, label: 0\n",
      "han_id: 2970232, firm_id: 13763, label: 0\n",
      "han_id: 4504916, firm_id: 5177, label: 0\n",
      "han_id: 163307, firm_id: 11831, label: 1\n",
      "han_id: 4504877, firm_id: 15353, label: 0\n",
      "han_id: 192222321, firm_id: 1645, label: 0\n",
      "han_id: 4581049, firm_id: 12622, label: 0\n",
      "han_id: 988285, firm_id: 5244, label: 1\n",
      "han_id: 1928588, firm_id: 8860, label: 0\n",
      "han_id: 524840, firm_id: 2830, label: 0\n",
      "han_id: 3042123, firm_id: 14528, label: 0\n",
      "han_id: 2678478, firm_id: 12580, label: 1\n",
      "han_id: 1871682, firm_id: 8442, label: 1\n",
      "han_id: 33038, firm_id: 2829, label: 0\n",
      "han_id: 155499939, firm_id: 8423, label: 0\n",
      "han_id: 1928588, firm_id: 8860, label: 0\n",
      "han_id: 1700357, firm_id: 7221, label: 1\n",
      "han_id: 3465042, firm_id: 13536, label: 0\n",
      "han_id: 2537666, firm_id: 9813, label: 1\n",
      "han_id: 1981073, firm_id: 9114, label: 1\n",
      "han_id: 7569, firm_id: 12070, label: 1\n",
      "han_id: 1029675, firm_id: 5387, label: 0\n",
      "han_id: 862826, firm_id: 4113, label: 1\n",
      "han_id: 13378, firm_id: 13714, label: 1\n",
      "han_id: 1438789, firm_id: 10592, label: 0\n",
      "han_id: 2707377, firm_id: 9592, label: 0\n",
      "han_id: 2678478, firm_id: 12580, label: 1\n",
      "han_id: 1337324, firm_id: 15235, label: 0\n",
      "han_id: 69690, firm_id: 10032, label: 1\n",
      "han_id: 2678478, firm_id: 12580, label: 1\n",
      "han_id: 2989699, firm_id: 14111, label: 1\n",
      "han_id: 1543981, firm_id: 7033, label: 0\n",
      "han_id: 3634191, firm_id: 1832, label: 0\n"
     ]
    }
   ],
   "execution_count": null
  },
  {
   "metadata": {
    "ExecuteTime": {
     "end_time": "2025-02-22T15:03:42.302124Z",
     "start_time": "2025-02-22T15:03:42.275658Z"
    }
   },
   "cell_type": "code",
   "source": [
    "sql = \"\"\"\n",
    "    SELECT DISTINCT(firm_id), han_id, similarity, name, han_name, person_name, psn_name FROM patstat_firm_match\n",
    "    JOIN firm_names USING(firm_id)\n",
    "    JOIN patstat_data USING(han_id)\n",
    "    WHERE similarity > 0.87\n",
    "    \"\"\"\n",
    "test_data = con.execute(sql).fetchdf()"
   ],
   "id": "3df2826caf7ad433",
   "outputs": [],
   "execution_count": 20
  },
  {
   "metadata": {
    "ExecuteTime": {
     "end_time": "2025-02-22T15:08:15.583003Z",
     "start_time": "2025-02-22T15:08:14.487389Z"
    }
   },
   "cell_type": "code",
   "source": "process_gemini_response(call_gemini_api(test_data.loc[0].to_json()))",
   "id": "1d88f9416e4f2f1e",
   "outputs": [
    {
     "name": "stdout",
     "output_type": "stream",
     "text": [
      "han_id: 868544, firm_id: 5017, label: 1\n"
     ]
    }
   ],
   "execution_count": 30
  },
  {
   "metadata": {
    "ExecuteTime": {
     "end_time": "2025-02-22T15:06:31.233120Z",
     "start_time": "2025-02-22T15:06:31.229609Z"
    }
   },
   "cell_type": "code",
   "source": "test_data.loc[0].to_json()",
   "id": "ac537026cca31ad0",
   "outputs": [
    {
     "data": {
      "text/plain": [
       "'{\"firm_id\":5017,\"han_id\":868544,\"similarity\":1.0,\"name\":\"FMC CORP\",\"han_name\":\"FMC CORP\",\"person_name\":\"FMC Corporation\",\"psn_name\":\"FMC CORPORATION\"}'"
      ]
     },
     "execution_count": 26,
     "metadata": {},
     "output_type": "execute_result"
    }
   ],
   "execution_count": 26
  },
  {
   "metadata": {},
   "cell_type": "code",
   "outputs": [],
   "execution_count": null,
   "source": "",
   "id": "4336e0fd7d21dd9b"
  }
 ],
 "metadata": {
  "kernelspec": {
   "name": "python3",
   "language": "python",
   "display_name": "Python 3 (ipykernel)"
  }
 },
 "nbformat": 5,
 "nbformat_minor": 9
}
