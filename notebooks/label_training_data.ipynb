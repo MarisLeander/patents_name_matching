{
 "cells": [
  {
   "cell_type": "code",
   "execution_count": 1,
   "id": "11d4dba43ed7b5dc",
   "metadata": {
    "ExecuteTime": {
     "end_time": "2025-04-02T12:04:01.514667Z",
     "start_time": "2025-04-02T12:04:00.443194Z"
    }
   },
   "outputs": [],
   "source": [
    "import duckdb\n",
    "from duckdb import ConstraintException\n",
    "from duckdb import BinderException\n",
    "from google import genai\n",
    "from google.genai import types\n",
    "from google.genai.errors import ClientError\n",
    "from google.genai.errors import ServerError\n",
    "from datetime import datetime\n",
    "import concurrent.futures\n",
    "import json\n",
    "import time\n",
    "import re\n",
    "from tqdm import tqdm"
   ]
  },
  {
   "cell_type": "code",
   "execution_count": 2,
   "id": "5bfbbb3c7072f1c4",
   "metadata": {
    "ExecuteTime": {
     "end_time": "2025-04-02T12:04:01.536170Z",
     "start_time": "2025-04-02T12:04:01.530667Z"
    }
   },
   "outputs": [],
   "source": [
    "def get_api_key() -> str:\n",
    "    \"\"\"Gets the users Google Gemini api key from the config file\n",
    "\n",
    "    Args:\n",
    "        None\n",
    "\n",
    "    Returns:\n",
    "        The Google Gemini api key of the user\n",
    "    \"\"\"\n",
    "    with open(\"../config.json\", \"r\") as config_file:\n",
    "        config = json.load(config_file)\n",
    "    return config.get(\"gemini_api_key\")\n",
    "\n",
    "def write_log(msg: str, logfile: str):\n",
    "    \"\"\"Writes a message to the log file.\n",
    "\n",
    "    Args:\n",
    "        msg: The message to write to the log file\n",
    "        logfile: The name of the log file\n",
    "\n",
    "    Returns:\n",
    "        None\n",
    "    \"\"\"\n",
    "    file_path = f\"../logs/{logfile}\"\n",
    "    with open(file_path, \"a\") as log_file:\n",
    "        timestamp = datetime.now().strftime(\"%Y-%m-%d %H:%M:%S\")\n",
    "        log_file.write(f\"{timestamp}\\n{msg}\\n\\n\")"
   ]
  },
  {
   "cell_type": "code",
   "execution_count": 3,
   "id": "362416b77ec1fdce",
   "metadata": {
    "ExecuteTime": {
     "end_time": "2025-04-02T12:04:03.232624Z",
     "start_time": "2025-04-02T12:04:01.541166Z"
    }
   },
   "outputs": [],
   "source": [
    "client = genai.Client(api_key=get_api_key())\n",
    "\n",
    "# Connect to the database\n",
    "con = duckdb.connect(database='patent_database', read_only=False)"
   ]
  },
  {
   "cell_type": "code",
   "execution_count": 4,
   "id": "f9214cfe37d06c8e",
   "metadata": {
    "ExecuteTime": {
     "end_time": "2025-04-02T12:04:04.111103Z",
     "start_time": "2025-04-02T12:04:04.105606Z"
    }
   },
   "outputs": [],
   "source": [
    "def create_label_table(reset: bool = False):\n",
    "    \"\"\"Creates a table in the database to store the labels\n",
    "\n",
    "    Args:\n",
    "        reset: Whether to reset the table if it already exists\n",
    "    Returns:\n",
    "        None\n",
    "    \"\"\"\n",
    "    if reset:\n",
    "        con.execute(\"DROP TABLE IF EXISTS labels\")\n",
    "\n",
    "    con.execute(\"\"\"\n",
    "        CREATE TABLE IF NOT EXISTS labels (\n",
    "            han_id INTEGER,\n",
    "            firm_id INTEGER REFERENCES firm_names(firm_id),\n",
    "            label INTEGER\n",
    "        )\n",
    "    \"\"\")\n",
    "\n",
    "def insert_label(han_id: int, firm_id: int, label: int):\n",
    "    \"\"\"Inserts a label into the label table\n",
    "\n",
    "    Args:\n",
    "        han_id: The id of the han record\n",
    "        firm_id: The id of the firm record\n",
    "        label: The label of the record\n",
    "    Returns:\n",
    "        None\n",
    "    \"\"\"\n",
    "    try:\n",
    "        con.execute(f\"\"\"\n",
    "            INSERT INTO labels\n",
    "            VALUES ({han_id}, {firm_id}, {label})\n",
    "        \"\"\")\n",
    "    except ConstraintException as e:\n",
    "        # Entry already in Database\n",
    "        pass\n",
    "    except BinderException as e:\n",
    "        # None column (faulty gemini response)\n",
    "        msg = f\"\"\"\n",
    "            Faulty Response for:\n",
    "            han_id: {han_id}\n",
    "            firm_id: {firm_id}\n",
    "            label: {label}\n",
    "            \"\"\"\n",
    "        write_log(msg, \"insert_exception_log.txt\")"
   ]
  },
  {
   "cell_type": "code",
   "execution_count": 5,
   "id": "e2421be83281f72f",
   "metadata": {
    "ExecuteTime": {
     "end_time": "2025-04-02T12:04:04.136104Z",
     "start_time": "2025-04-02T12:04:04.125604Z"
    }
   },
   "outputs": [],
   "source": [
    "\n",
    "def do_api_call(prompt, input_data, client, types) -> dict:\n",
    "    \"\"\" Calls the Gemini API with the given prompt and input data\n",
    "\n",
    "    Args:\n",
    "        prompt: The prompt to be sent to the API\n",
    "        input_data: The data to be sent to the API\n",
    "        client: The Google Gemini client\n",
    "        types: The types module from the Google Gemini API\n",
    "    Returns:\n",
    "        The response from the API\n",
    "    \"\"\"\n",
    "    response = None\n",
    "    successful_api_call = False\n",
    "    i = 0\n",
    "\n",
    "    while not successful_api_call:\n",
    "        try:\n",
    "            response = client.models.generate_content(\n",
    "                model='gemini-2.0-flash-thinking-exp-01-21',\n",
    "                contents=prompt,\n",
    "                config=types.GenerateContentConfig(\n",
    "                    temperature=0.0\n",
    "                )\n",
    "            )\n",
    "            successful_api_call = True\n",
    "        except (ClientError, ServerError) as e:\n",
    "            i += 1\n",
    "            if i == 5:\n",
    "                error = f\"\"\"Failed to call the gemini api 5 times\n",
    "                        Error: {e}\n",
    "                        Input data: {input_data}\"\"\"\n",
    "                write_log(error, \"api_call_error.txt\")\n",
    "                return {}  # Return an empty dict to avoid None\n",
    "            else:\n",
    "                time.sleep(30)  # Sleep before retrying\n",
    "                continue\n",
    "\n",
    "    # If we exit the loop normally, we got a successful API call\n",
    "    return response\n",
    "\n",
    "def call_gemini_api_with_timeout(prompt, input_data, client, types, timeout_seconds=300) -> dict:\n",
    "    \"\"\" Calls the Gemini API with the given prompt and input data, with a timeout\n",
    "\n",
    "    Args:\n",
    "        prompt: The prompt to be sent to the API\n",
    "        input_data: The data to be sent to the API\n",
    "        client: The Google Gemini client\n",
    "        types: The types module from the Google Gemini API\n",
    "        timeout_seconds: The timeout for the API call\n",
    "    Returns:\n",
    "        The response from the API\n",
    "    \"\"\"\n",
    "    with concurrent.futures.ThreadPoolExecutor(max_workers=1) as executor:\n",
    "        future = executor.submit(do_api_call, prompt, input_data, client, types)\n",
    "        try:\n",
    "            # Wait up to timeout_seconds for do_api_call to complete\n",
    "            # print(\"Calling API\")\n",
    "            response = future.result(timeout=timeout_seconds)\n",
    "            # print(f\"Got response: {response}\")\n",
    "            return response\n",
    "        except concurrent.futures.TimeoutError:\n",
    "            write_log(f\"Timed out after {timeout_seconds} seconds for input {input_data};\\n returning empty dict.\", \"api_call_error.txt\")\n",
    "            return {}\n",
    "\n",
    "def call_gemini_api(input_data: str) -> dict:\n",
    "    \"\"\"Calls the Google Gemini API to determine if the name is a match to the han_name, person_name and psn_name\n",
    "\n",
    "    Args:\n",
    "        input_data: The data to be sent to the API\n",
    "    Returns:\n",
    "        The response from the API\n",
    "    \"\"\"\n",
    "\n",
    "    prompt = f\"\"\" Your task is to determine if a given company name ('name') matches any of the provided company names from the PATSTAT database ('han_name', 'person_name', 'psn_name'). You must be very thorough in your analysis. Assume that the provided names are accurate and free of spelling errors. Focus on identifying exact or near-exact matches, considering only common and accepted abbreviations. Do NOT consider minor variations or potential spelling mistakes as valid matches.\n",
    "\n",
    "    Input Data (JSON):\n",
    "    {input_data}\n",
    "\n",
    "    Output (JSON):\n",
    "    {{\\n\\\"firm_id\\\": \\\"{{firm_id}}\\\",\\n    \\\"han_id\\\": \\\"{{han_id}}\\\",\\n    \\\"label\\\": \\\"{{label}}\\\" <--- The value of 'label' MUST be either '0' or '1'. '0' indicates no match, and '1' indicates a match.\\n}}\",\n",
    "\n",
    "    \"description\": \"This prompt instructs the model to perform company name matching, comparing a given name against PATSTAT names and outputting a JSON object with the firm_id, han_id, and a label indicating a match (1) or no match (0). The model is instructed to be thorough.\n",
    "    \"\"\"\n",
    "    response = call_gemini_api_with_timeout(prompt, input_data, client, types)\n",
    "\n",
    "    try:\n",
    "        # Preprocess the model response\n",
    "        text = response.text\n",
    "        pattern = r\"json\\s*(\\{.*?\\})\\s*\"\n",
    "        match = re.search(pattern, text, re.DOTALL)\n",
    "        if match:\n",
    "            json_str = match.group(1).strip()\n",
    "            data = json.loads(json_str)\n",
    "            return data\n",
    "        else:\n",
    "            # print(\"Error: Gemini API did not return valid JSON.\")\n",
    "            write_log(f\"Error: Gemini API did not return valid JSON.\\n\\n{response.text}\", \"label_training_api_call_log.txt\")\n",
    "    except json.JSONDecodeError:\n",
    "        # print(\"Error: Gemini API did not return valid JSON.\")\n",
    "        write_log(f\"Error: Gemini API did not return valid JSON.\\n\\n{response.text}\", \"label_training_api_call_log.txt\")\n",
    "\n",
    "\n",
    "def process_gemini_response(response: dict, row: dict):\n",
    "    \"\"\"Processes the response from the Gemini API\n",
    "\n",
    "    Args:\n",
    "        response: The response from the Gemini API\n",
    "        row: The row of data that was sent to the API\n",
    "    Returns:\n",
    "        None\n",
    "    \"\"\"\n",
    "    han_id = int(response.get(\"han_id\"))\n",
    "    firm_id = int(response.get(\"firm_id\"))\n",
    "    # Check if the han_id and firm_id match the input data\n",
    "    if han_id != row.get(\"han_id\") or firm_id != row.get(\"firm_id\"):\n",
    "        write_log(f\"Error: han_id or firm_id do not match the input data.\\n\\n{response}\", \"label_training_api_call_log.txt\")\n",
    "        return\n",
    "    label = response.get(\"label\")\n",
    "    # print(f\"han_id: {han_id}, firm_id: {firm_id}, label: {label}\")\n",
    "    insert_label(han_id, firm_id, label)"
   ]
  },
  {
   "cell_type": "code",
   "execution_count": 6,
   "id": "2ce391da8ec107b0",
   "metadata": {
    "ExecuteTime": {
     "end_time": "2025-04-02T12:04:04.218100Z",
     "start_time": "2025-04-02T12:04:04.210600Z"
    }
   },
   "outputs": [],
   "source": [
    "def process_data():\n",
    "    \"\"\"Processes the data in the database\n",
    "\n",
    "    Args:\n",
    "        None\n",
    "    Returns:\n",
    "        None\n",
    "    \"\"\"\n",
    "    sql = \"\"\"\n",
    "    SELECT DISTINCT firm_id, han_id, similarity, name, han_name, person_name, psn_name FROM patstat_firm_match\n",
    "    JOIN firm_names USING(firm_id)\n",
    "    JOIN patstat_data USING(han_id)\n",
    "    WHERE similarity >= 0.9\n",
    "    \"\"\"\n",
    "    data = con.execute(sql).fetchdf()\n",
    "\n",
    "    for _, row in tqdm(data.iterrows(), total=len(data), desc=\"Processing rows\"):\n",
    "        # If the name jaro-winkler similarity is >= .99, we assume it is a match\n",
    "        han_id = row[\"han_id\"]\n",
    "        firm_id = row[\"firm_id\"]\n",
    "        if con.execute(f\"SELECT * FROM labels WHERE han_id = {han_id} AND firm_id = {firm_id}\").fetchdf().shape[0] > 0:\n",
    "            write_log(f\"Entry han_id = {han_id} AND firm_id = {firm_id} already in DB\", \"entry_log.txt\")\n",
    "            # Entry already in Database\n",
    "            continue\n",
    "        elif row['similarity'] >= 0.99:\n",
    "            # We assume it is a match\n",
    "            insert_label(han_id, firm_id, 1)\n",
    "        else:\n",
    "            # We call the gemini api to determine if it is a match\n",
    "            successful_answer = False\n",
    "            i = 0\n",
    "            while not successful_answer:\n",
    "                try:\n",
    "                    response = call_gemini_api(row.to_json())\n",
    "                    process_gemini_response(response, row)\n",
    "                    successful_answer = True\n",
    "                except (TypeError, AttributeError, UnicodeEncodeError) as e:\n",
    "                    i += 1\n",
    "                    if i == 5:\n",
    "                        error = f\"\"\"Failed to call the gemini api 5 times\\n\n",
    "                            Error: {e}\\n\n",
    "                            Input data: {row}\"\"\"\n",
    "                        write_log(error, \"api_call_error.txt\")\n",
    "                        break\n",
    "                    else:\n",
    "                        continue\n",
    "            "
   ]
  },
  {
   "cell_type": "code",
   "execution_count": 7,
   "id": "95d87ac3352ade33",
   "metadata": {
    "ExecuteTime": {
     "end_time": "2025-04-02T14:32:28.145274Z",
     "start_time": "2025-04-02T12:04:04.247599Z"
    }
   },
   "outputs": [
    {
     "name": "stderr",
     "output_type": "stream",
     "text": [
      "Processing rows:  87%|████████▋ | 26756/30668 [2:28:14<21:40,  3.01it/s]   \n"
     ]
    }
   ],
   "source": [
    "if __name__ == \"__main__\":\n",
    "    create_label_table()\n",
    "    try:\n",
    "        process_data()\n",
    "    except UnicodeEncodeError as e:\n",
    "        msg = f\"Failed to write log. Error:\\n {e}\""
   ]
  },
  {
   "cell_type": "code",
   "execution_count": null,
   "id": "2b631dd499d36491",
   "metadata": {},
   "outputs": [],
   "source": [
    "sql = \"\"\"\n",
    "    SELECT DISTINCT han_id, firm_id, similarity, label, name, han_name, person_name, psn_name FROM labels\n",
    "    JOIN firm_names USING(firm_id)\n",
    "    JOIN patstat_data USING(han_id)\n",
    "    JOIN patstat_firm_match USING(han_id, firm_id)\n",
    "    WHERE label = 0\n",
    "    AND similarity > 0.95\n",
    "\"\"\"\n",
    "\n",
    "con.execute(sql).fetchdf()"
   ]
  },
  {
   "cell_type": "code",
   "execution_count": null,
   "id": "3b00396df8a485fa",
   "metadata": {},
   "outputs": [],
   "source": [
    "# Verify, that there are no han_ids with multiple firm_ids and vice versa\n",
    "sql = \"\"\"\n",
    "    SELECT han_id, COUNT(DISTINCT firm_id) AS distinct_firm_ids\n",
    "    FROM labels\n",
    "    WHERE label = 1\n",
    "    GROUP BY han_id\n",
    "    HAVING COUNT(DISTINCT firm_id) > 1;\n",
    "\"\"\"\n",
    "\n",
    "con.execute(sql).fetchdf()\n"
   ]
  },
  {
   "cell_type": "code",
   "execution_count": null,
   "id": "8dca871c00cde1bf",
   "metadata": {},
   "outputs": [],
   "source": [
    "sql = \"\"\"\n",
    "    SELECT \n",
    "    SELECT firm_id, COUNT(DISTINCT han_id) AS distinct_han_ids\n",
    "    FROM labels\n",
    "    WHERE label = 1\n",
    "    GROUP BY firm_id\n",
    "    HAVING COUNT(DISTINCT han_id) > 1;\n",
    "\"\"\"\n",
    "\n",
    "con.execute(sql).fetchdf()"
   ]
  },
  {
   "cell_type": "code",
   "execution_count": null,
   "id": "10b1b26e3ae0c9a2",
   "metadata": {},
   "outputs": [],
   "source": [
    "sql = \"\"\"\n",
    "        SELECT DISTINCT\n",
    "        l.han_id,\n",
    "        l.firm_id,\n",
    "        pm.similarity,\n",
    "        l.label,\n",
    "        f.name,\n",
    "        p.han_name,\n",
    "        p.person_name,\n",
    "        p.psn_name\n",
    "    FROM labels l\n",
    "    JOIN firm_names f USING (firm_id)\n",
    "    JOIN patstat_data p USING (han_id)\n",
    "    JOIN patstat_firm_match pm USING (han_id, firm_id)\n",
    "    WHERE l.firm_id IN (\n",
    "        SELECT firm_id\n",
    "        FROM labels\n",
    "        WHERE label = 1\n",
    "        GROUP BY firm_id\n",
    "        HAVING COUNT(DISTINCT han_id) > 1\n",
    "    );\n",
    "\"\"\"\n",
    "\n",
    "con.execute(sql).fetchdf()"
   ]
  },
  {
   "cell_type": "code",
   "execution_count": null,
   "id": "849d71566e52a61a",
   "metadata": {},
   "outputs": [],
   "source": [
    "con.execute(\"SELECT count(DISTINCT firm_id) FROM labels\").fetchdf()"
   ]
  },
  {
   "cell_type": "code",
   "execution_count": null,
   "id": "755af3d0d7235394",
   "metadata": {},
   "outputs": [],
   "source": [
    "sql = \"\"\"\n",
    "    SELECT DISTINCT han_id, firm_id, label, name, han_name, person_name, psn_name FROM labels\n",
    "    JOIN firm_names USING(firm_id)\n",
    "    JOIN patstat_data USING(han_id)\n",
    "    WHERE firm_id = 12622\n",
    "\"\"\"\n",
    "\n",
    "con.execute(sql).fetchdf()"
   ]
  },
  {
   "cell_type": "code",
   "execution_count": null,
   "id": "17312177c55cb1fe",
   "metadata": {},
   "outputs": [],
   "source": [
    "sql = \"\"\"\n",
    "    SELECT DISTINCT han_id, firm_id, similarity, label, name, han_name, person_name, psn_name FROM labels\n",
    "    JOIN firm_names USING(firm_id)\n",
    "    JOIN patstat_data USING(han_id)\n",
    "    JOIN patstat_firm_match USING(han_id, firm_id)\n",
    "    WHERE label = 1\n",
    "    AND similarity < 0.92\n",
    "\"\"\"\n",
    "\n",
    "con.execute(sql).fetchdf()"
   ]
  },
  {
   "cell_type": "code",
   "execution_count": null,
   "id": "b982b29fe3936c90",
   "metadata": {},
   "outputs": [],
   "source": [
    "con.execute(\"select * from patstat_firm_match where similarity < 0.91\").fetchdf()"
   ]
  },
  {
   "cell_type": "code",
   "execution_count": null,
   "id": "e02ca1f70ffb2f11",
   "metadata": {},
   "outputs": [],
   "source": [
    "sql = \"\"\"\n",
    "SELECT DISTINCT firm_id, han_id, similarity, name, han_name, person_name, psn_name FROM patstat_firm_match\n",
    "JOIN firm_names USING(firm_id)\n",
    "JOIN patstat_data USING(han_id)\n",
    "WHERE similarity >= 0.99\n",
    "\"\"\"\n",
    "\n",
    "con.execute(sql).fetchdf()"
   ]
  },
  {
   "cell_type": "code",
   "execution_count": null,
   "id": "eb9a563cba178f8a",
   "metadata": {},
   "outputs": [],
   "source": []
  }
 ],
 "metadata": {
  "kernelspec": {
   "display_name": "Python 3 (ipykernel)",
   "language": "python",
   "name": "python3"
  },
  "language_info": {
   "codemirror_mode": {
    "name": "ipython",
    "version": 3
   },
   "file_extension": ".py",
   "mimetype": "text/x-python",
   "name": "python",
   "nbconvert_exporter": "python",
   "pygments_lexer": "ipython3",
   "version": "3.11.7"
  }
 },
 "nbformat": 4,
 "nbformat_minor": 9
}
