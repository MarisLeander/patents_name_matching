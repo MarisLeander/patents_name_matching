{
 "cells": [
  {
   "cell_type": "code",
   "metadata": {
    "ExecuteTime": {
     "end_time": "2025-02-17T08:09:52.617455Z",
     "start_time": "2025-02-17T08:09:52.242741Z"
    }
   },
   "source": [
    "import pandas as pd\n",
    "import duckdb as db\n",
    "from pandas import read_csv\n",
    "\n",
    "# We're using the google style guide for python (https://google.github.io/styleguide/pyguide.html)"
   ],
   "outputs": [],
   "execution_count": 2
  },
  {
   "metadata": {
    "ExecuteTime": {
     "end_time": "2025-02-17T08:09:52.624788Z",
     "start_time": "2025-02-17T08:09:52.621047Z"
    }
   },
   "cell_type": "code",
   "source": [
    "# establish a connection to the database\n",
    "con = db.connect(database='patent_database', read_only=False)"
   ],
   "outputs": [],
   "execution_count": 3
  },
  {
   "cell_type": "code",
   "metadata": {
    "ExecuteTime": {
     "end_time": "2025-02-17T08:24:27.310733Z",
     "start_time": "2025-02-17T08:24:27.206963Z"
    }
   },
   "source": [
    "# Read the data from the CSV file\n",
    "firm_names_data = pd.read_stata('../../files_maris/katharina_patents_name_matching/all_names_incl_isin.dta').reset_index()"
   ],
   "outputs": [],
   "execution_count": 8
  },
  {
   "metadata": {
    "ExecuteTime": {
     "end_time": "2025-02-17T08:24:28.673888Z",
     "start_time": "2025-02-17T08:24:28.661870Z"
    }
   },
   "cell_type": "code",
   "source": "con.sql(\"show tables\")",
   "outputs": [
    {
     "data": {
      "text/plain": [
       "┌─────────┐\n",
       "│  name   │\n",
       "│ varchar │\n",
       "├─────────┤\n",
       "│ 0 rows  │\n",
       "└─────────┘"
      ]
     },
     "execution_count": 9,
     "metadata": {},
     "output_type": "execute_result"
    }
   ],
   "execution_count": 9
  },
  {
   "metadata": {
    "ExecuteTime": {
     "end_time": "2025-02-16T20:09:59.425312Z",
     "start_time": "2025-02-16T20:09:59.409687Z"
    }
   },
   "cell_type": "code",
   "source": [
    "# con.sql(\"DROP TABLE IF EXISTS patstat_firm_match;\")\n",
    "# con.sql(\"DROP TABLE IF EXISTS firm_isin;\")\n",
    "# con.sql(\"DROP TABLE IF EXISTS firm_names;\")\n",
    "# con.sql(\"DROP TABLE IF EXISTS firm_data_complete;\")\n",
    "# con.sql(\"DROP TABLE IF EXISTS patstat_data;\")\n",
    "# con.sql(\"DROP TABLE IF EXISTS patstat_test_data;\")"
   ],
   "outputs": [],
   "execution_count": 14
  },
  {
   "metadata": {
    "ExecuteTime": {
     "end_time": "2025-02-17T08:24:32.073932Z",
     "start_time": "2025-02-17T08:24:32.068781Z"
    }
   },
   "cell_type": "code",
   "source": [
    "def create_base_tables(firm_names_data: pd.DataFrame, reset: bool = False):\n",
    "    \"\"\"Creates the base tables for the name matching process. This includes the firm_names_data table and the patstat_data table. Also create firm_data_complete table.\n",
    "\n",
    "    Args:\n",
    "        reset: If True, the tables will be dropped if they already exist.\n",
    "        firm_names_data: The data containing the names and ISINs of the firms.\n",
    "\n",
    "    Returns:\n",
    "        None\n",
    "    \"\"\"\n",
    "    if reset:\n",
    "        # -- 1. Drop old tables if they exist\n",
    "        con.sql(\"DROP TABLE IF EXISTS firm_isin;\")\n",
    "        con.sql(\"DROP TABLE IF EXISTS firm_names;\")\n",
    "        con.sql(\"DROP TABLE IF EXISTS firm_data_complete;\")\n",
    "\n",
    "    # -- 2. Create firm_names table with a generated surrogate key for each distinct name\n",
    "    # We do this to get rid of duplicates for name matching\n",
    "    sql = \"\"\"\n",
    "        CREATE TABLE IF NOT EXISTS firm_names (\n",
    "            firm_id INTEGER PRIMARY KEY,\n",
    "            name VARCHAR(255) NOT NULL\n",
    "        );\n",
    "    \"\"\"\n",
    "    con.sql(sql)\n",
    "\n",
    "    sql = \"\"\"\n",
    "        INSERT INTO firm_names (firm_id, name)\n",
    "        SELECT ROW_NUMBER() OVER (ORDER BY name) AS firm_id,\n",
    "               name\n",
    "        FROM (\n",
    "            SELECT DISTINCT UPPER(name) AS name\n",
    "            FROM firm_names_data\n",
    "        ) AS sub;\n",
    "    \"\"\"\n",
    "    con.sql(sql)\n",
    "\n",
    "    # -- 3. Create firm_isin table, referencing the firm_id via a JOIN on the name\n",
    "    # We do this, since some firms have multiple ISINs (e.g. SHINWA CO LTD). This could be due to different classes of shares / or subsidiaries?\n",
    "    sql = \"\"\"\n",
    "        CREATE TABLE IF NOT EXISTS firm_isin (\n",
    "           ISIN VARCHAR(255) PRIMARY KEY NOT NULL,\n",
    "           firm_id INTEGER REFERENCES firm_names(firm_id)\n",
    "        );\n",
    "    \"\"\"\n",
    "    con.sql(sql)\n",
    "\n",
    "    sql = \"\"\"\n",
    "        INSERT INTO firm_isin (ISIN, firm_id)\n",
    "        SELECT i.ISIN, f.firm_id\n",
    "        FROM (\n",
    "           SELECT DISTINCT ISIN, UPPER(name) AS name\n",
    "           FROM firm_names_data\n",
    "        ) AS i\n",
    "        JOIN firm_names AS f\n",
    "        ON i.name = f.name;\n",
    "    \"\"\"\n",
    "    con.sql(sql)\n",
    "\n",
    "    # -- 4. This table can be used to extract the bdvids of the subsidiaries via ISIN or name\n",
    "    con.sql(\"CREATE TABLE IF NOT EXISTS firm_data_complete AS SELECT ISIN, subsidiarybvdid, UPPER(name) AS name FROM firm_names_data\")\n",
    "\n",
    "def create_match_table(reset: bool = False):\n",
    "    \"\"\"Creates the patstat_firm_match table in the database. This table is used to store the matches between the patstat data and the firm (id) data.\n",
    "\n",
    "    Args:\n",
    "        reset: If True, the table will be dropped if it already exists.\n",
    "\n",
    "    Returns:\n",
    "        None\n",
    "    \"\"\"\n",
    "    if reset:\n",
    "        con.sql(\"DROP TABLE IF EXISTS patstat_firm_match;\")\n",
    "\n",
    "    sql = \"\"\"\n",
    "    CREATE TABLE IF NOT EXISTS patstat_firm_match (\n",
    "        pat_publn_id INTEGER NOT NULL, -- pat_publn_id from patstat_data tables -> @todo später hier INTEGER PRIMARY KEY, wenn alles geklärt\n",
    "        firm_id INTEGER REFERENCES firm_names(firm_id), -- firm_id from firm_names table\n",
    "        similarity FLOAT, -- similarity between the patstat name and the firm name\n",
    "        pat_table VARCHAR(255) NOT NULL-- name of the patstat_data table, e.g. patstat_data_A_B\n",
    "    );\n",
    "    \"\"\"\n",
    "    con.sql(sql)\n",
    "\n",
    "def create_patstat_database(patstat_data: pd.DataFrame, name: str, reset: bool = True):\n",
    "    \"\"\"Creates a table in the database with the patstat data.\n",
    "\n",
    "    Args:\n",
    "        patstat_data: The data containing the patstat data.\n",
    "        name: The name (extension) of the table.\n",
    "        reset: If True, the table will be dropped if it already exists.\n",
    "\n",
    "    Returns:\n",
    "        None\n",
    "    \"\"\"\n",
    "    if reset:\n",
    "        con.sql(f\"DROP TABLE IF EXISTS patstat_{name}\")\n",
    "    sql = f\"\"\"\n",
    "        CREATE TABLE IF NOT EXISTS patstat_{name} AS\n",
    "        SELECT pat_publn_id,\n",
    "               UPPER(han_name) AS han_name,\n",
    "               UPPER(person_name) AS person_name,\n",
    "               UPPER(psn_name) AS psn_name\n",
    "        FROM patstat_data\"\"\"\n",
    "    con.sql(sql)\n"
   ],
   "outputs": [],
   "execution_count": 10
  },
  {
   "metadata": {
    "ExecuteTime": {
     "end_time": "2025-02-19T08:56:32.235075Z",
     "start_time": "2025-02-19T08:56:32.231391Z"
    }
   },
   "cell_type": "code",
   "source": [
    "def insert_match(pat_publn_id: int, firm_id: int, similarity: float, pat_table: str):\n",
    "    \"\"\"Inserts a match between a patstat publication id and a firm id into the patstat_firm_match table.\n",
    "\n",
    "    Args:\n",
    "        pat_publn_id: The patstat publication id.\n",
    "        firm_id: The firm id.\n",
    "        similarity: The similarity between the patstat name and the firm name.\n",
    "        pat_table: The name of the patstat table.\n",
    "\n",
    "    Returns:\n",
    "        None\n",
    "    \"\"\"\n",
    "    # print(f\"Inserting match for pat_publn_id {pat_publn_id}, firm_id {firm_id}, similarity {similarity}, pat_table {pat_table}\")\n",
    "    sql = f\"\"\"\n",
    "        INSERT INTO patstat_firm_match (pat_publn_id, firm_id, similarity, pat_table)\n",
    "        VALUES (?, ?, ?, ?);\n",
    "    \"\"\"\n",
    "    con.execute(sql, (pat_publn_id, firm_id, similarity, pat_table))\n",
    "\n",
    "def get_matching_firm(patstat_name: str) -> pd.DataFrame:\n",
    "    patstat_name = patstat_name.replace(\"'\", \"\")\n",
    "    # We use the Jaro-Winkler similarity since it is a good metric for string similarity. It\n",
    "    sql = f\"\"\"\n",
    "        SELECT\n",
    "            firm_id,\n",
    "            name,\n",
    "            jaro_winkler_similarity(name, '{patstat_name}') AS similarity\n",
    "        FROM firm_names\n",
    "        WHERE similarity > 0.8\n",
    "        ORDER BY similarity DESC\n",
    "        LIMIT 10;\n",
    "    \"\"\"\n",
    "    df = con.sql(sql).fetchdf()\n",
    "    return df\n"
   ],
   "outputs": [],
   "execution_count": 36
  },
  {
   "metadata": {
    "ExecuteTime": {
     "end_time": "2025-02-19T08:56:32.415184Z",
     "start_time": "2025-02-19T08:56:32.410822Z"
    }
   },
   "cell_type": "code",
   "source": [
    "def extract_before_first_comma(s: str) -> str:\n",
    "    \"\"\"Extracts the substring before the first comma in a string.\n",
    "\n",
    "    Args:\n",
    "        s: The input string.\n",
    "\n",
    "    Returns:\n",
    "        The substring before the first comma.\n",
    "    \"\"\"\n",
    "    # Split on the first comma only (maxsplit=1)\n",
    "    parts = s.split(',', 1)\n",
    "    return parts[0]  # If there's no comma, split() returns [s]\n",
    "\n",
    "def get_best_match(patstat_entry: pd.Series) -> pd.DataFrame:\n",
    "    \"\"\"Calculates the best name match for a patstat entry against our firm_names table.\n",
    "\n",
    "    Args:\n",
    "        patstat_entry: A single entry from the patstat data.\n",
    "\n",
    "    Returns:\n",
    "        The best match for the patstat entry.\n",
    "    \"\"\"\n",
    "\n",
    "    df = None\n",
    "    max_similarity = -1\n",
    "\n",
    "    # We have to use the extract_before_first_comma function to get rid of the location information in the name\n",
    "    df_han = get_matching_firm(extract_before_first_comma(patstat_entry['han_name']))\n",
    "    df_psn = get_matching_firm(extract_before_first_comma(patstat_entry['psn_name']))\n",
    "    df_person = get_matching_firm(extract_before_first_comma(patstat_entry['person_name']))\n",
    "    # We check if we have a match with a similarity > 0.9 in any of the dataframes. They are sorted by the subjective importance (han_name > psn_name > person_name)\n",
    "    # If we have a match with a similarity > 0.9, we instantly return it\n",
    "    # @todo check if the subjective order is correct\n",
    "    if len(df_han) > 0:\n",
    "        similarity = df_han['similarity'].iloc[0]\n",
    "        if similarity > 0.9:\n",
    "            return df_han\n",
    "        elif similarity > max_similarity:\n",
    "            max_similarity = similarity\n",
    "            df = df_han\n",
    "    if len(df_psn) > 0:\n",
    "        similarity = df_psn['similarity'].iloc[0]\n",
    "        if similarity > 0.9:\n",
    "            return df_psn\n",
    "        elif similarity > max_similarity:\n",
    "            max_similarity = similarity\n",
    "            df = df_psn\n",
    "    if len(df_person) > 0:\n",
    "        similarity = df_person['similarity'].iloc[0]\n",
    "        if similarity > 0.9:\n",
    "            return df_person\n",
    "        elif similarity > max_similarity:\n",
    "            max_similarity = similarity\n",
    "            df = df_person\n",
    "\n",
    "    # If we don't have a match with a similarity > 0.9, we return the best match\n",
    "    return df\n",
    "\n",
    "\n",
    "def process_patstat_entry(patstat_entry: pd.Series, table_name: str):\n",
    "    \"\"\"Processes a single entry from the patstat data and tries to find a matching firm.\n",
    "\n",
    "    Args:\n",
    "        patstat_entry: A single entry from the patstat data.\n",
    "        table_name: The name of the patstat table.\n",
    "\n",
    "    Returns:\n",
    "        None\n",
    "    \"\"\"\n",
    "    data = get_best_match(patstat_entry)\n",
    "\n",
    "    if data is not None:\n",
    "        data = data.iloc[0]\n",
    "        # We convert the similarity to a float, since it is a numpy float and duckdb doesn't like that (respectively, firm_id as int)\n",
    "        insert_match(patstat_entry['pat_publn_id'], data['firm_id'], data['similarity'], table_name)\n",
    "    else:\n",
    "        insert_match(patstat_entry['pat_publn_id'], None, None, table_name)"
   ],
   "outputs": [],
   "execution_count": 37
  },
  {
   "metadata": {
    "ExecuteTime": {
     "end_time": "2025-02-19T08:56:32.818788Z",
     "start_time": "2025-02-19T08:56:32.816345Z"
    }
   },
   "cell_type": "code",
   "source": [
    "def process_patstat_file(path: str, table_name: str):\n",
    "    \"\"\"Processes a patstat file and tries to find matching firms for each entry.\n",
    "\n",
    "    Args:\n",
    "        path: The path to the patstat file.\n",
    "        table_name: The name of the patstat table.\n",
    "\n",
    "    Returns:\n",
    "        None\n",
    "    \"\"\"\n",
    "    print(f\"Processing table {table_name}. Path: {path}\")\n",
    "    patstat_data = pd.read_csv(path, sep=';')\n",
    "    create_patstat_database(patstat_data, table_name)\n",
    "    df = con.sql(f\"SELECT * FROM patstat_{table_name}\").fetchdf()\n",
    "    length = len(df)\n",
    "    for index, row in df.iterrows():\n",
    "        if index % 1000 == 0:\n",
    "            print(f\"Processing entry {index}/{length}\")\n",
    "        process_patstat_entry(row, table_name)\n"
   ],
   "outputs": [],
   "execution_count": 38
  },
  {
   "metadata": {
    "ExecuteTime": {
     "end_time": "2025-02-19T08:55:56.026015Z",
     "start_time": "2025-02-19T08:55:55.938051Z"
    }
   },
   "cell_type": "code",
   "source": [
    "con.sql(\"START TRANSACTION;\")\n",
    "create_base_tables(firm_names_data, True)\n",
    "create_match_table(True)\n",
    "# process_patstat_file(\"../../files_maris/katharina_patents_name_matching/patent_download_Oct_2024/patents_P.csv\", \"patents_P\")"
   ],
   "outputs": [],
   "execution_count": 32
  },
  {
   "metadata": {
    "ExecuteTime": {
     "end_time": "2025-02-19T08:54:34.161206Z",
     "start_time": "2025-02-19T08:54:34.156329Z"
    }
   },
   "cell_type": "code",
   "source": [
    "sql = \"\"\"\n",
    "    SELECT * FROM patstat_firm_match\n",
    "    JOIN firm_names USING(firm_id)\n",
    "    JOIN patstat_patents_P USING(pat_publn_id)\n",
    "    WHERE similarity > 0.9\n",
    "    \"\"\"\n",
    "# con.execute(sql).fetchdf()"
   ],
   "outputs": [],
   "execution_count": 31
  },
  {
   "metadata": {
    "ExecuteTime": {
     "end_time": "2025-02-18T17:10:27.937968Z",
     "start_time": "2025-02-18T17:10:27.891124Z"
    }
   },
   "cell_type": "code",
   "outputs": [
    {
     "data": {
      "text/plain": [
       "     pat_publn_id  firm_id  similarity  pat_table        name  \\\n",
       "0       605812521    10836         1.0  patents_P  PFIZER INC   \n",
       "1       603509561    10836         1.0  patents_P  PFIZER INC   \n",
       "2       602233505    10836         1.0  patents_P  PFIZER INC   \n",
       "3       602233495    10836         1.0  patents_P  PFIZER INC   \n",
       "4       601626819    10836         1.0  patents_P  PFIZER INC   \n",
       "..            ...      ...         ...        ...         ...   \n",
       "175     490807634    10836         1.0  patents_P  PFIZER INC   \n",
       "176     576027687    10836         1.0  patents_P  PFIZER INC   \n",
       "177     573735084    10836         1.0  patents_P  PFIZER INC   \n",
       "178     547986664    10836         1.0  patents_P  PFIZER INC   \n",
       "179     547986664    10836         1.0  patents_P  PFIZER INC   \n",
       "\n",
       "                                              han_name  \\\n",
       "0                                           PFIZER INC   \n",
       "1                                           PFIZER INC   \n",
       "2                                           PFIZER INC   \n",
       "3                                           PFIZER INC   \n",
       "4                                           PFIZER INC   \n",
       "..                                                 ...   \n",
       "175                                         PFIZER INC   \n",
       "176  INSERM INSTITUT NAL DE LA SANTE & DE LA RECHER...   \n",
       "177  INSERM INSTITUT NAL DE LA SANTE & DE LA RECHER...   \n",
       "178  INSERM INSTITUT NAL DE LA SANTE & DE LA RECHER...   \n",
       "179                                         PFIZER INC   \n",
       "\n",
       "                                           person_name  \\\n",
       "0                                          PFIZER INC.   \n",
       "1                                          PFIZER INC.   \n",
       "2                                          PFIZER INC.   \n",
       "3                                          PFIZER INC.   \n",
       "4                                          PFIZER INC.   \n",
       "..                                                 ...   \n",
       "175                                       PFIZER, INC.   \n",
       "176  INSERM (INSTITUT NATIONAL DE LA SANTÉ ET DE LA...   \n",
       "177  INSERM (INSTITUT NATIONAL DE LA SANTÉ ET DE LA...   \n",
       "178  INSERM (INSTITUT NATIONAL DE LA SANTE ET DE LA...   \n",
       "179                                        PFIZER INC.   \n",
       "\n",
       "                                              psn_name  \n",
       "0                                               PFIZER  \n",
       "1                                               PFIZER  \n",
       "2                                               PFIZER  \n",
       "3                                               PFIZER  \n",
       "4                                               PFIZER  \n",
       "..                                                 ...  \n",
       "175                                             PFIZER  \n",
       "176  INSERM (INSTITUT NATIONAL DE LA SANTE ET DE LA...  \n",
       "177  INSERM (INSTITUT NATIONAL DE LA SANTE ET DE LA...  \n",
       "178  INSERM (INSTITUT NATIONAL DE LA SANTE ET DE LA...  \n",
       "179                                             PFIZER  \n",
       "\n",
       "[180 rows x 8 columns]"
      ],
      "text/html": [
       "<div>\n",
       "<style scoped>\n",
       "    .dataframe tbody tr th:only-of-type {\n",
       "        vertical-align: middle;\n",
       "    }\n",
       "\n",
       "    .dataframe tbody tr th {\n",
       "        vertical-align: top;\n",
       "    }\n",
       "\n",
       "    .dataframe thead th {\n",
       "        text-align: right;\n",
       "    }\n",
       "</style>\n",
       "<table border=\"1\" class=\"dataframe\">\n",
       "  <thead>\n",
       "    <tr style=\"text-align: right;\">\n",
       "      <th></th>\n",
       "      <th>pat_publn_id</th>\n",
       "      <th>firm_id</th>\n",
       "      <th>similarity</th>\n",
       "      <th>pat_table</th>\n",
       "      <th>name</th>\n",
       "      <th>han_name</th>\n",
       "      <th>person_name</th>\n",
       "      <th>psn_name</th>\n",
       "    </tr>\n",
       "  </thead>\n",
       "  <tbody>\n",
       "    <tr>\n",
       "      <th>0</th>\n",
       "      <td>605812521</td>\n",
       "      <td>10836</td>\n",
       "      <td>1.0</td>\n",
       "      <td>patents_P</td>\n",
       "      <td>PFIZER INC</td>\n",
       "      <td>PFIZER INC</td>\n",
       "      <td>PFIZER INC.</td>\n",
       "      <td>PFIZER</td>\n",
       "    </tr>\n",
       "    <tr>\n",
       "      <th>1</th>\n",
       "      <td>603509561</td>\n",
       "      <td>10836</td>\n",
       "      <td>1.0</td>\n",
       "      <td>patents_P</td>\n",
       "      <td>PFIZER INC</td>\n",
       "      <td>PFIZER INC</td>\n",
       "      <td>PFIZER INC.</td>\n",
       "      <td>PFIZER</td>\n",
       "    </tr>\n",
       "    <tr>\n",
       "      <th>2</th>\n",
       "      <td>602233505</td>\n",
       "      <td>10836</td>\n",
       "      <td>1.0</td>\n",
       "      <td>patents_P</td>\n",
       "      <td>PFIZER INC</td>\n",
       "      <td>PFIZER INC</td>\n",
       "      <td>PFIZER INC.</td>\n",
       "      <td>PFIZER</td>\n",
       "    </tr>\n",
       "    <tr>\n",
       "      <th>3</th>\n",
       "      <td>602233495</td>\n",
       "      <td>10836</td>\n",
       "      <td>1.0</td>\n",
       "      <td>patents_P</td>\n",
       "      <td>PFIZER INC</td>\n",
       "      <td>PFIZER INC</td>\n",
       "      <td>PFIZER INC.</td>\n",
       "      <td>PFIZER</td>\n",
       "    </tr>\n",
       "    <tr>\n",
       "      <th>4</th>\n",
       "      <td>601626819</td>\n",
       "      <td>10836</td>\n",
       "      <td>1.0</td>\n",
       "      <td>patents_P</td>\n",
       "      <td>PFIZER INC</td>\n",
       "      <td>PFIZER INC</td>\n",
       "      <td>PFIZER INC.</td>\n",
       "      <td>PFIZER</td>\n",
       "    </tr>\n",
       "    <tr>\n",
       "      <th>...</th>\n",
       "      <td>...</td>\n",
       "      <td>...</td>\n",
       "      <td>...</td>\n",
       "      <td>...</td>\n",
       "      <td>...</td>\n",
       "      <td>...</td>\n",
       "      <td>...</td>\n",
       "      <td>...</td>\n",
       "    </tr>\n",
       "    <tr>\n",
       "      <th>175</th>\n",
       "      <td>490807634</td>\n",
       "      <td>10836</td>\n",
       "      <td>1.0</td>\n",
       "      <td>patents_P</td>\n",
       "      <td>PFIZER INC</td>\n",
       "      <td>PFIZER INC</td>\n",
       "      <td>PFIZER, INC.</td>\n",
       "      <td>PFIZER</td>\n",
       "    </tr>\n",
       "    <tr>\n",
       "      <th>176</th>\n",
       "      <td>576027687</td>\n",
       "      <td>10836</td>\n",
       "      <td>1.0</td>\n",
       "      <td>patents_P</td>\n",
       "      <td>PFIZER INC</td>\n",
       "      <td>INSERM INSTITUT NAL DE LA SANTE &amp; DE LA RECHER...</td>\n",
       "      <td>INSERM (INSTITUT NATIONAL DE LA SANTÉ ET DE LA...</td>\n",
       "      <td>INSERM (INSTITUT NATIONAL DE LA SANTE ET DE LA...</td>\n",
       "    </tr>\n",
       "    <tr>\n",
       "      <th>177</th>\n",
       "      <td>573735084</td>\n",
       "      <td>10836</td>\n",
       "      <td>1.0</td>\n",
       "      <td>patents_P</td>\n",
       "      <td>PFIZER INC</td>\n",
       "      <td>INSERM INSTITUT NAL DE LA SANTE &amp; DE LA RECHER...</td>\n",
       "      <td>INSERM (INSTITUT NATIONAL DE LA SANTÉ ET DE LA...</td>\n",
       "      <td>INSERM (INSTITUT NATIONAL DE LA SANTE ET DE LA...</td>\n",
       "    </tr>\n",
       "    <tr>\n",
       "      <th>178</th>\n",
       "      <td>547986664</td>\n",
       "      <td>10836</td>\n",
       "      <td>1.0</td>\n",
       "      <td>patents_P</td>\n",
       "      <td>PFIZER INC</td>\n",
       "      <td>INSERM INSTITUT NAL DE LA SANTE &amp; DE LA RECHER...</td>\n",
       "      <td>INSERM (INSTITUT NATIONAL DE LA SANTE ET DE LA...</td>\n",
       "      <td>INSERM (INSTITUT NATIONAL DE LA SANTE ET DE LA...</td>\n",
       "    </tr>\n",
       "    <tr>\n",
       "      <th>179</th>\n",
       "      <td>547986664</td>\n",
       "      <td>10836</td>\n",
       "      <td>1.0</td>\n",
       "      <td>patents_P</td>\n",
       "      <td>PFIZER INC</td>\n",
       "      <td>PFIZER INC</td>\n",
       "      <td>PFIZER INC.</td>\n",
       "      <td>PFIZER</td>\n",
       "    </tr>\n",
       "  </tbody>\n",
       "</table>\n",
       "<p>180 rows × 8 columns</p>\n",
       "</div>"
      ]
     },
     "execution_count": 47,
     "metadata": {},
     "output_type": "execute_result"
    }
   ],
   "execution_count": 47,
   "source": [
    "sql = sql = \"\"\"\n",
    "    SELECT * FROM patstat_firm_match\n",
    "    JOIN firm_names USING(firm_id)\n",
    "    JOIN patstat_patents_P USING(pat_publn_id)\n",
    "    WHERE similarity > 0.9\n",
    "    AND name LIKE '%PFIZER%'\n",
    "    \"\"\"\n",
    "\n",
    "# con.execute(sql).fetchdf()"
   ]
  },
  {
   "metadata": {
    "ExecuteTime": {
     "end_time": "2025-02-19T09:02:28.884197Z",
     "start_time": "2025-02-19T09:02:28.878810Z"
    }
   },
   "cell_type": "code",
   "source": "buggy_data = pd.read_csv('../../files_maris/debug_data/pfizer_weird.csv')",
   "outputs": [],
   "execution_count": 40
  },
  {
   "metadata": {
    "ExecuteTime": {
     "end_time": "2025-02-19T09:05:57.285057Z",
     "start_time": "2025-02-19T09:05:57.282452Z"
    }
   },
   "cell_type": "code",
   "source": "buggy_data.loc[1]",
   "outputs": [
    {
     "data": {
      "text/plain": [
       "Unnamed: 0                                    102\n",
       "pat_publn_id                            540273784\n",
       "firm_id                                     10836\n",
       "similarity                                    1.0\n",
       "pat_table                               patents_P\n",
       "name                                   PFIZER INC\n",
       "han_name               BOSTON MEDICAL CENTER CORP\n",
       "person_name     BOSTON MEDICAL CENTER CORPORATION\n",
       "psn_name        BOSTON MEDICAL CENTER CORPORATION\n",
       "Name: 1, dtype: object"
      ]
     },
     "execution_count": 45,
     "metadata": {},
     "output_type": "execute_result"
    }
   ],
   "execution_count": 45
  },
  {
   "metadata": {
    "ExecuteTime": {
     "end_time": "2025-02-19T09:05:41.046551Z",
     "start_time": "2025-02-19T09:05:41.037837Z"
    }
   },
   "cell_type": "code",
   "source": "get_best_match(buggy_data.loc[1])",
   "outputs": [
    {
     "data": {
      "text/plain": [
       "   firm_id                          name  similarity\n",
       "0     2008       BOSTON BEER COMPANY INC    0.877759\n",
       "1     2010        BOSTON SCIENTIFIC CORP    0.857653\n",
       "2     2009         BOSTON PROPERTIES INC    0.825458\n",
       "3     2022     BOWLIN TRAVEL CENTERS INC    0.808065\n",
       "4    15154  WHEATON PRECIOUS METALS CORP    0.801532"
      ],
      "text/html": [
       "<div>\n",
       "<style scoped>\n",
       "    .dataframe tbody tr th:only-of-type {\n",
       "        vertical-align: middle;\n",
       "    }\n",
       "\n",
       "    .dataframe tbody tr th {\n",
       "        vertical-align: top;\n",
       "    }\n",
       "\n",
       "    .dataframe thead th {\n",
       "        text-align: right;\n",
       "    }\n",
       "</style>\n",
       "<table border=\"1\" class=\"dataframe\">\n",
       "  <thead>\n",
       "    <tr style=\"text-align: right;\">\n",
       "      <th></th>\n",
       "      <th>firm_id</th>\n",
       "      <th>name</th>\n",
       "      <th>similarity</th>\n",
       "    </tr>\n",
       "  </thead>\n",
       "  <tbody>\n",
       "    <tr>\n",
       "      <th>0</th>\n",
       "      <td>2008</td>\n",
       "      <td>BOSTON BEER COMPANY INC</td>\n",
       "      <td>0.877759</td>\n",
       "    </tr>\n",
       "    <tr>\n",
       "      <th>1</th>\n",
       "      <td>2010</td>\n",
       "      <td>BOSTON SCIENTIFIC CORP</td>\n",
       "      <td>0.857653</td>\n",
       "    </tr>\n",
       "    <tr>\n",
       "      <th>2</th>\n",
       "      <td>2009</td>\n",
       "      <td>BOSTON PROPERTIES INC</td>\n",
       "      <td>0.825458</td>\n",
       "    </tr>\n",
       "    <tr>\n",
       "      <th>3</th>\n",
       "      <td>2022</td>\n",
       "      <td>BOWLIN TRAVEL CENTERS INC</td>\n",
       "      <td>0.808065</td>\n",
       "    </tr>\n",
       "    <tr>\n",
       "      <th>4</th>\n",
       "      <td>15154</td>\n",
       "      <td>WHEATON PRECIOUS METALS CORP</td>\n",
       "      <td>0.801532</td>\n",
       "    </tr>\n",
       "  </tbody>\n",
       "</table>\n",
       "</div>"
      ]
     },
     "execution_count": 44,
     "metadata": {},
     "output_type": "execute_result"
    }
   ],
   "execution_count": 44
  },
  {
   "metadata": {},
   "cell_type": "code",
   "outputs": [],
   "execution_count": null,
   "source": [
    "con.sql('ROLLBACK;')\n",
    "con.sql('show tables')"
   ]
  },
  {
   "metadata": {},
   "cell_type": "code",
   "outputs": [],
   "execution_count": null,
   "source": ""
  }
 ],
 "metadata": {
  "kernelspec": {
   "display_name": "base",
   "language": "python",
   "name": "python3"
  },
  "language_info": {
   "codemirror_mode": {
    "name": "ipython",
    "version": 3
   },
   "file_extension": ".py",
   "mimetype": "text/x-python",
   "name": "python",
   "nbconvert_exporter": "python",
   "pygments_lexer": "ipython3",
   "version": "3.9.12"
  }
 },
 "nbformat": 4,
 "nbformat_minor": 2
}
